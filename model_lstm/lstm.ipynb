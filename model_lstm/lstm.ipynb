{
 "cells": [
  {
   "cell_type": "markdown",
   "metadata": {},
   "source": [
    "Análisis del DataFrame obtenido mediante YahooFinance. \n",
    "Objetivo: Identificar las variables más propensas a influir en el valor de la acción."
   ]
  },
  {
   "cell_type": "code",
   "execution_count": null,
   "metadata": {},
   "outputs": [],
   "source": [
    "import yfinance as yf\n",
    "import pandas as pd\n",
    "import numpy as np\n",
    "import matplotlib.pyplot as plt\n",
    "from sklearn.preprocessing import MinMaxScaler"
   ]
  },
  {
   "cell_type": "code",
   "execution_count": null,
   "metadata": {},
   "outputs": [],
   "source": [
    "from keras.models import Sequential\n",
    "from keras.layers import Dense, LSTM"
   ]
  },
  {
   "cell_type": "code",
   "execution_count": null,
   "metadata": {},
   "outputs": [],
   "source": [
    "def graph_prediction(real, prediction):\n",
    "    real_date = real['Date']\n",
    "    real_close = real['Close']\n",
    "\n",
    "    plt.plot(real_date[0:len(prediction)], real_close[0:len(prediction)], color='red', label='Valor real de la acción')\n",
    "    plt.plot(real_date[0:len(prediction)], prediction, color='blue', label='Predicción de la acción')\n",
    "    \n",
    "    # Establecer las etiquetas de las fechas en el eje x\n",
    "    plt.xticks(rotation=45)\n",
    "    \n",
    "    plt.ylim(1.1 * np.min(prediction) / 2, 1.1 * np.max(prediction))\n",
    "    plt.xlabel('Fecha')\n",
    "    plt.ylabel(\"Valor de la Acción\")\n",
    "    plt.legend()\n",
    "    plt.grid(True)\n",
    "    plt.show()"
   ]
  },
  {
   "cell_type": "code",
   "execution_count": null,
   "metadata": {},
   "outputs": [],
   "source": [
    "ticker = yf.Ticker(\"AAPL\")\n",
    "info = ticker.info\n",
    " \n",
    "data = yf.download(\"AAPL\", start='2010-07-13', end='2023-10-01')\n",
    "df = pd.DataFrame(data)\n",
    "df['SMA_10'] = df['Close'].rolling(window=10).mean()\n",
    "df.dropna(subset=['SMA_10'], inplace=True)\n",
    "df.reset_index(inplace=True)"
   ]
  },
  {
   "cell_type": "code",
   "execution_count": null,
   "metadata": {},
   "outputs": [],
   "source": [
    "df.tail()"
   ]
  },
  {
   "cell_type": "code",
   "execution_count": null,
   "metadata": {},
   "outputs": [],
   "source": [
    "# Extraemos los datos de la media movil hasta el 2022-09-31 para el entrenamiento, y del 2022-10-01 en adelante para la validación\n",
    "train_set = df[df['Date'] <= '2022-09-30']\n",
    "validate_set = df[df['Date'] >= '2022-10-01']\n",
    "# Eliminamos las columnas innecesarias\n",
    "train_set.drop(columns=[\"Open\", \"High\", \"Low\", \"Adj Close\", \"Volume\", \"SMA_10\"], inplace=True)\n",
    "validate_set.drop(columns=[\"Open\", \"High\", \"Low\", \"Adj Close\", \"Volume\", \"SMA_10\"], inplace=True)\n",
    "\n",
    "print(train_set)\n",
    "print(validate_set)"
   ]
  },
  {
   "cell_type": "code",
   "execution_count": null,
   "metadata": {},
   "outputs": [],
   "source": [
    "# Establecer la columna \"Date\" como índice\n",
    "train_set.set_index('Date', inplace=True)\n",
    "validate_set.set_index('Date', inplace=True)"
   ]
  },
  {
   "cell_type": "code",
   "execution_count": null,
   "metadata": {},
   "outputs": [],
   "source": [
    "# Gráfico para observar los datos de entrenamiento y validación.\n",
    "train_set[\"Close\"].plot(legend=True)\n",
    "validate_set[\"Close\"].plot(legend=True)\n",
    "plt.legend(['Train (2015 - 2022/09)', 'Validate (2022/10)'])\n",
    "plt.show()"
   ]
  },
  {
   "cell_type": "code",
   "execution_count": null,
   "metadata": {},
   "outputs": [],
   "source": [
    "# Normalizamos los datos de entrenamiento entre 0-1\n",
    "sc = MinMaxScaler(feature_range=(0,1))\n",
    "train_set_normal = sc.fit_transform(train_set)"
   ]
  },
  {
   "cell_type": "code",
   "execution_count": null,
   "metadata": {},
   "outputs": [],
   "source": [
    "# La red LSTM tendrá como entrada \"time_step\" datos consecutivos, y como salida 1 dato (es el resultado de la predicción a partir de esos \"time_step\" datos). Se conforma de esta manera el set de entrenamiento.\n",
    "time_step = 60\n",
    "x_train = []\n",
    "y_train = []\n",
    "m = len(train_set_normal)\n",
    "\n",
    "for i in range(time_step, m):\n",
    "    # Datos: 0-time_step; 1-time_step+1; 2-time_step+2; etc.\n",
    "    x_train.append(train_set_normal[i-time_step:i, 0])\n",
    "\n",
    "    y_train.append(train_set_normal[i, 0])\n",
    "\n",
    "x_train, y_train = np.array(x_train), np.array(y_train)\n",
    "x_train = np.reshape(x_train, (x_train.shape[0], x_train.shape[1], 1))"
   ]
  },
  {
   "cell_type": "code",
   "execution_count": null,
   "metadata": {},
   "outputs": [],
   "source": [
    "# Defino el modelo de entrada y salida de la red\n",
    "dim_entry = (x_train.shape[1], 1)\n",
    "dim_out = 1\n",
    "na = 50"
   ]
  },
  {
   "cell_type": "code",
   "execution_count": null,
   "metadata": {},
   "outputs": [],
   "source": [
    "# Defino la red secuencial\n",
    "model = Sequential()\n",
    "model.add(LSTM(units=na, input_shape=dim_entry, activation=\"tanh\"))\n",
    "model.add(Dense(units=dim_out))\n",
    "model.compile(optimizer='rmsprop', loss='mse')\n",
    "model.fit(x_train, y_train, epochs=50, batch_size=32)"
   ]
  },
  {
   "cell_type": "code",
   "execution_count": null,
   "metadata": {},
   "outputs": [],
   "source": [
    "# Preparo los datos de prueba\n",
    "x_test = validate_set.values\n",
    "x_test = sc.transform(x_test)"
   ]
  },
  {
   "cell_type": "code",
   "execution_count": null,
   "metadata": {},
   "outputs": [],
   "source": [
    "X_test = []\n",
    "for i in range(time_step, len(x_test)):\n",
    "    X_test.append(x_test[i-time_step:i, 0])\n",
    "\n",
    "X_test = np.array(X_test)\n",
    "X_test = np.reshape(X_test, (X_test.shape[0], X_test.shape[1], 1))"
   ]
  },
  {
   "cell_type": "code",
   "execution_count": null,
   "metadata": {},
   "outputs": [],
   "source": [
    "# Realizo la predicción\n",
    "prediction = model.predict(X_test)\n",
    "prediction = sc.inverse_transform(prediction)"
   ]
  },
  {
   "cell_type": "code",
   "execution_count": null,
   "metadata": {},
   "outputs": [],
   "source": [
    "graph_prediction(validate_set.reset_index(), prediction)"
   ]
  },
  {
   "cell_type": "code",
   "execution_count": null,
   "metadata": {},
   "outputs": [],
   "source": []
  }
 ],
 "metadata": {
  "kernelspec": {
   "display_name": "Python 3.11.4 ('env': venv)",
   "language": "python",
   "name": "python3"
  },
  "language_info": {
   "codemirror_mode": {
    "name": "ipython",
    "version": 3
   },
   "file_extension": ".py",
   "mimetype": "text/x-python",
   "name": "python",
   "nbconvert_exporter": "python",
   "pygments_lexer": "ipython3",
   "version": "3.11.2"
  },
  "orig_nbformat": 4,
  "vscode": {
   "interpreter": {
    "hash": "0472aa9c384a9239f6715ddb2f043cd9922a4970077915a84953f1d795e50591"
   }
  }
 },
 "nbformat": 4,
 "nbformat_minor": 2
}
