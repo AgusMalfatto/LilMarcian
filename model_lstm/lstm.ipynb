{
 "cells": [
  {
   "cell_type": "markdown",
   "metadata": {},
   "source": [
    "Análisis del DataFrame obtenido mediante YahooFinance. \n",
    "Objetivo: Identificar las variables más propensas a influir en el valor de la acción."
   ]
  },
  {
   "cell_type": "code",
   "execution_count": 370,
   "metadata": {},
   "outputs": [],
   "source": [
    "import yfinance as yf\n",
    "import pandas as pd\n",
    "import numpy as np\n",
    "import matplotlib.pyplot as plt\n",
    "from sklearn.preprocessing import MinMaxScaler"
   ]
  },
  {
   "cell_type": "code",
   "execution_count": 371,
   "metadata": {},
   "outputs": [],
   "source": [
    "from keras.models import Sequential\n",
    "from keras.layers import Dense, LSTM"
   ]
  },
  {
   "cell_type": "code",
   "execution_count": 389,
   "metadata": {},
   "outputs": [],
   "source": [
    "def graph_prediction(real, prediction):\n",
    "    real_date = real['Date']\n",
    "    real_close = real['Close']\n",
    "\n",
    "    plt.plot(real_date[0:len(prediction)], real_close[0:len(prediction)], color='red', label='Valor real de la acción')\n",
    "    plt.plot(real_date[0:len(prediction)], prediction, color='blue', label='Predicción de la acción')\n",
    "    \n",
    "    # Establecer las etiquetas de las fechas en el eje x\n",
    "    plt.xticks(rotation=45)\n",
    "    \n",
    "    plt.ylim(1.1 * np.min(prediction) / 2, 1.1 * np.max(prediction))\n",
    "    plt.xlabel('Fecha')\n",
    "    plt.ylabel(\"Valor de la Acción\")\n",
    "    plt.legend()\n",
    "    plt.grid(True)\n",
    "    plt.show()"
   ]
  },
  {
   "cell_type": "code",
   "execution_count": 373,
   "metadata": {},
   "outputs": [
    {
     "name": "stdout",
     "output_type": "stream",
     "text": [
      "[*********************100%%**********************]  1 of 1 completed\n"
     ]
    }
   ],
   "source": [
    "ticker = yf.Ticker(\"AAPL\")\n",
    "info = ticker.info\n",
    " \n",
    "data = yf.download(\"AAPL\", start='2010-07-13', end='2023-10-01')\n",
    "df = pd.DataFrame(data)\n",
    "df['SMA_10'] = df['Close'].rolling(window=10).mean()\n",
    "df.dropna(subset=['SMA_10'], inplace=True)\n",
    "df.reset_index(inplace=True)"
   ]
  },
  {
   "cell_type": "code",
   "execution_count": 374,
   "metadata": {},
   "outputs": [
    {
     "data": {
      "text/html": [
       "<div>\n",
       "<style scoped>\n",
       "    .dataframe tbody tr th:only-of-type {\n",
       "        vertical-align: middle;\n",
       "    }\n",
       "\n",
       "    .dataframe tbody tr th {\n",
       "        vertical-align: top;\n",
       "    }\n",
       "\n",
       "    .dataframe thead th {\n",
       "        text-align: right;\n",
       "    }\n",
       "</style>\n",
       "<table border=\"1\" class=\"dataframe\">\n",
       "  <thead>\n",
       "    <tr style=\"text-align: right;\">\n",
       "      <th></th>\n",
       "      <th>Date</th>\n",
       "      <th>Open</th>\n",
       "      <th>High</th>\n",
       "      <th>Low</th>\n",
       "      <th>Close</th>\n",
       "      <th>Adj Close</th>\n",
       "      <th>Volume</th>\n",
       "      <th>SMA_10</th>\n",
       "    </tr>\n",
       "  </thead>\n",
       "  <tbody>\n",
       "    <tr>\n",
       "      <th>3314</th>\n",
       "      <td>2023-09-25</td>\n",
       "      <td>174.199997</td>\n",
       "      <td>176.970001</td>\n",
       "      <td>174.149994</td>\n",
       "      <td>176.080002</td>\n",
       "      <td>176.080002</td>\n",
       "      <td>46172700</td>\n",
       "      <td>175.859001</td>\n",
       "    </tr>\n",
       "    <tr>\n",
       "      <th>3315</th>\n",
       "      <td>2023-09-26</td>\n",
       "      <td>174.820007</td>\n",
       "      <td>175.199997</td>\n",
       "      <td>171.660004</td>\n",
       "      <td>171.960007</td>\n",
       "      <td>171.960007</td>\n",
       "      <td>64588900</td>\n",
       "      <td>175.425002</td>\n",
       "    </tr>\n",
       "    <tr>\n",
       "      <th>3316</th>\n",
       "      <td>2023-09-27</td>\n",
       "      <td>172.619995</td>\n",
       "      <td>173.039993</td>\n",
       "      <td>169.050003</td>\n",
       "      <td>170.429993</td>\n",
       "      <td>170.429993</td>\n",
       "      <td>66921800</td>\n",
       "      <td>175.047000</td>\n",
       "    </tr>\n",
       "    <tr>\n",
       "      <th>3317</th>\n",
       "      <td>2023-09-28</td>\n",
       "      <td>169.339996</td>\n",
       "      <td>172.029999</td>\n",
       "      <td>167.619995</td>\n",
       "      <td>170.690002</td>\n",
       "      <td>170.690002</td>\n",
       "      <td>56294400</td>\n",
       "      <td>174.542000</td>\n",
       "    </tr>\n",
       "    <tr>\n",
       "      <th>3318</th>\n",
       "      <td>2023-09-29</td>\n",
       "      <td>172.020004</td>\n",
       "      <td>173.070007</td>\n",
       "      <td>170.339996</td>\n",
       "      <td>171.210007</td>\n",
       "      <td>171.210007</td>\n",
       "      <td>51814200</td>\n",
       "      <td>174.162001</td>\n",
       "    </tr>\n",
       "  </tbody>\n",
       "</table>\n",
       "</div>"
      ],
      "text/plain": [
       "           Date        Open        High         Low       Close   Adj Close  \\\n",
       "3314 2023-09-25  174.199997  176.970001  174.149994  176.080002  176.080002   \n",
       "3315 2023-09-26  174.820007  175.199997  171.660004  171.960007  171.960007   \n",
       "3316 2023-09-27  172.619995  173.039993  169.050003  170.429993  170.429993   \n",
       "3317 2023-09-28  169.339996  172.029999  167.619995  170.690002  170.690002   \n",
       "3318 2023-09-29  172.020004  173.070007  170.339996  171.210007  171.210007   \n",
       "\n",
       "        Volume      SMA_10  \n",
       "3314  46172700  175.859001  \n",
       "3315  64588900  175.425002  \n",
       "3316  66921800  175.047000  \n",
       "3317  56294400  174.542000  \n",
       "3318  51814200  174.162001  "
      ]
     },
     "execution_count": 374,
     "metadata": {},
     "output_type": "execute_result"
    }
   ],
   "source": [
    "df.tail()"
   ]
  },
  {
   "cell_type": "code",
   "execution_count": 375,
   "metadata": {},
   "outputs": [
    {
     "name": "stdout",
     "output_type": "stream",
     "text": [
      "           Date       Close\n",
      "0    2010-07-26    9.260000\n",
      "1    2010-07-27    9.431429\n",
      "2    2010-07-28    9.320000\n",
      "3    2010-07-29    9.218214\n",
      "4    2010-07-30    9.187500\n",
      "...         ...         ...\n",
      "3064 2022-09-26  150.770004\n",
      "3065 2022-09-27  151.759995\n",
      "3066 2022-09-28  149.839996\n",
      "3067 2022-09-29  142.479996\n",
      "3068 2022-09-30  138.199997\n",
      "\n",
      "[3069 rows x 2 columns]\n",
      "           Date       Close\n",
      "3069 2022-10-03  142.449997\n",
      "3070 2022-10-04  146.100006\n",
      "3071 2022-10-05  146.399994\n",
      "3072 2022-10-06  145.429993\n",
      "3073 2022-10-07  140.089996\n",
      "...         ...         ...\n",
      "3314 2023-09-25  176.080002\n",
      "3315 2023-09-26  171.960007\n",
      "3316 2023-09-27  170.429993\n",
      "3317 2023-09-28  170.690002\n",
      "3318 2023-09-29  171.210007\n",
      "\n",
      "[250 rows x 2 columns]\n"
     ]
    },
    {
     "name": "stderr",
     "output_type": "stream",
     "text": [
      "C:\\Users\\agusm\\AppData\\Local\\Temp\\ipykernel_12736\\2002442084.py:5: SettingWithCopyWarning: \n",
      "A value is trying to be set on a copy of a slice from a DataFrame\n",
      "\n",
      "See the caveats in the documentation: https://pandas.pydata.org/pandas-docs/stable/user_guide/indexing.html#returning-a-view-versus-a-copy\n",
      "  train_set.drop(columns=[\"Open\", \"High\", \"Low\", \"Adj Close\", \"Volume\", \"SMA_10\"], inplace=True)\n",
      "C:\\Users\\agusm\\AppData\\Local\\Temp\\ipykernel_12736\\2002442084.py:6: SettingWithCopyWarning: \n",
      "A value is trying to be set on a copy of a slice from a DataFrame\n",
      "\n",
      "See the caveats in the documentation: https://pandas.pydata.org/pandas-docs/stable/user_guide/indexing.html#returning-a-view-versus-a-copy\n",
      "  validate_set.drop(columns=[\"Open\", \"High\", \"Low\", \"Adj Close\", \"Volume\", \"SMA_10\"], inplace=True)\n"
     ]
    }
   ],
   "source": [
    "# Extraemos los datos de la media movil hasta el 2022-09-31 para el entrenamiento, y del 2022-10-01 en adelante para la validación\n",
    "train_set = df[df['Date'] <= '2022-09-30']\n",
    "validate_set = df[df['Date'] >= '2022-10-01']\n",
    "# Eliminamos las columnas innecesarias\n",
    "train_set.drop(columns=[\"Open\", \"High\", \"Low\", \"Adj Close\", \"Volume\", \"SMA_10\"], inplace=True)\n",
    "validate_set.drop(columns=[\"Open\", \"High\", \"Low\", \"Adj Close\", \"Volume\", \"SMA_10\"], inplace=True)\n",
    "\n",
    "print(train_set)\n",
    "print(validate_set)"
   ]
  },
  {
   "cell_type": "code",
   "execution_count": 376,
   "metadata": {},
   "outputs": [],
   "source": [
    "# Establecer la columna \"Date\" como índice\n",
    "train_set.set_index('Date', inplace=True)\n",
    "validate_set.set_index('Date', inplace=True)"
   ]
  },
  {
   "cell_type": "code",
   "execution_count": 377,
   "metadata": {},
   "outputs": [
    {
     "data": {
      "image/png": "[encoded data removed]",
      "text/plain": [
       "<Figure size 640x480 with 1 Axes>"
      ]
     },
     "metadata": {},
     "output_type": "display_data"
    }
   ],
   "source": [
    "# Gráfico para observar los datos de entrenamiento y validación.\n",
    "train_set[\"Close\"].plot(legend=True)\n",
    "validate_set[\"Close\"].plot(legend=True)\n",
    "plt.legend(['Train (2015 - 2022/09)', 'Validate (2022/10)'])\n",
    "plt.show()"
   ]
  },
  {
   "cell_type": "code",
   "execution_count": 378,
   "metadata": {},
   "outputs": [],
   "source": [
    "# Normalizamos los datos de entrenamiento entre 0-1\n",
    "sc = MinMaxScaler(feature_range=(0,1))\n",
    "train_set_normal = sc.fit_transform(train_set)"
   ]
  },
  {
   "cell_type": "code",
   "execution_count": 379,
   "metadata": {},
   "outputs": [],
   "source": [
    "# La red LSTM tendrá como entrada \"time_step\" datos consecutivos, y como salida 1 dato (es el resultado de la predicción a partir de esos \"time_step\" datos). Se conforma de esta manera el set de entrenamiento.\n",
    "time_step = 60\n",
    "x_train = []\n",
    "y_train = []\n",
    "m = len(train_set_normal)\n",
    "\n",
    "for i in range(time_step, m):\n",
    "    # Datos: 0-time_step; 1-time_step+1; 2-time_step+2; etc.\n",
    "    x_train.append(train_set_normal[i-time_step:i, 0])\n",
    "\n",
    "    y_train.append(train_set_normal[i, 0])\n",
    "\n",
    "x_train, y_train = np.array(x_train), np.array(y_train)\n",
    "x_train = np.reshape(x_train, (x_train.shape[0], x_train.shape[1], 1))"
   ]
  },
  {
   "cell_type": "code",
   "execution_count": 380,
   "metadata": {},
   "outputs": [],
   "source": [
    "# Defino el modelo de entrada y salida de la red\n",
    "dim_entry = (x_train.shape[1], 1)\n",
    "dim_out = 1\n",
    "na = 50"
   ]
  },
  {
   "cell_type": "code",
   "execution_count": 381,
   "metadata": {},
   "outputs": [
    {
     "name": "stdout",
     "output_type": "stream",
     "text": [
      "Epoch 1/50\n",
      "95/95 [==============================] - 3s 12ms/step - loss: 0.0102\n",
      "Epoch 2/50\n",
      "95/95 [==============================] - 1s 12ms/step - loss: 0.0011\n",
      "Epoch 3/50\n",
      "95/95 [==============================] - 1s 12ms/step - loss: 7.0727e-04\n",
      "Epoch 4/50\n",
      "95/95 [==============================] - 1s 12ms/step - loss: 5.0318e-04\n",
      "Epoch 5/50\n",
      "95/95 [==============================] - 1s 12ms/step - loss: 4.4714e-04\n",
      "Epoch 6/50\n",
      "95/95 [==============================] - 1s 12ms/step - loss: 3.2908e-04\n",
      "Epoch 7/50\n",
      "95/95 [==============================] - 1s 12ms/step - loss: 3.0799e-04\n",
      "Epoch 8/50\n",
      "95/95 [==============================] - 1s 12ms/step - loss: 2.9295e-04\n",
      "Epoch 9/50\n",
      "95/95 [==============================] - 1s 12ms/step - loss: 2.7801e-04\n",
      "Epoch 10/50\n",
      "95/95 [==============================] - 1s 12ms/step - loss: 2.4098e-04\n",
      "Epoch 11/50\n",
      "95/95 [==============================] - 1s 12ms/step - loss: 2.2127e-04\n",
      "Epoch 12/50\n",
      "95/95 [==============================] - 1s 12ms/step - loss: 2.3253e-04\n",
      "Epoch 13/50\n",
      "95/95 [==============================] - 1s 12ms/step - loss: 2.1398e-04\n",
      "Epoch 14/50\n",
      "95/95 [==============================] - 1s 12ms/step - loss: 2.0406e-04\n",
      "Epoch 15/50\n",
      "95/95 [==============================] - 1s 12ms/step - loss: 2.0578e-04\n",
      "Epoch 16/50\n",
      "95/95 [==============================] - 1s 12ms/step - loss: 1.8063e-04\n",
      "Epoch 17/50\n",
      "95/95 [==============================] - 1s 12ms/step - loss: 1.8505e-04\n",
      "Epoch 18/50\n",
      "95/95 [==============================] - 1s 12ms/step - loss: 1.9761e-04\n",
      "Epoch 19/50\n",
      "95/95 [==============================] - 1s 12ms/step - loss: 1.8573e-04\n",
      "Epoch 20/50\n",
      "95/95 [==============================] - 1s 12ms/step - loss: 1.7966e-04\n",
      "Epoch 21/50\n",
      "95/95 [==============================] - 1s 12ms/step - loss: 1.7289e-04\n",
      "Epoch 22/50\n",
      "95/95 [==============================] - 1s 12ms/step - loss: 1.5298e-04\n",
      "Epoch 23/50\n",
      "95/95 [==============================] - 1s 12ms/step - loss: 1.6921e-04\n",
      "Epoch 24/50\n",
      "95/95 [==============================] - 1s 12ms/step - loss: 1.5491e-04\n",
      "Epoch 25/50\n",
      "95/95 [==============================] - 1s 12ms/step - loss: 1.7016e-04\n",
      "Epoch 26/50\n",
      "95/95 [==============================] - 1s 12ms/step - loss: 1.6533e-04\n",
      "Epoch 27/50\n",
      "95/95 [==============================] - 1s 12ms/step - loss: 1.5528e-04\n",
      "Epoch 28/50\n",
      "95/95 [==============================] - 1s 12ms/step - loss: 1.5230e-04\n",
      "Epoch 29/50\n",
      "95/95 [==============================] - 1s 12ms/step - loss: 1.4438e-04\n",
      "Epoch 30/50\n",
      "95/95 [==============================] - 1s 12ms/step - loss: 1.4367e-04\n",
      "Epoch 31/50\n",
      "95/95 [==============================] - 1s 12ms/step - loss: 1.4749e-04\n",
      "Epoch 32/50\n",
      "95/95 [==============================] - 1s 12ms/step - loss: 1.4389e-04\n",
      "Epoch 33/50\n",
      "95/95 [==============================] - 1s 12ms/step - loss: 1.2659e-04\n",
      "Epoch 34/50\n",
      "95/95 [==============================] - 1s 12ms/step - loss: 1.4127e-04\n",
      "Epoch 35/50\n",
      "95/95 [==============================] - 1s 12ms/step - loss: 1.3520e-04\n",
      "Epoch 36/50\n",
      "95/95 [==============================] - 1s 12ms/step - loss: 1.2931e-04\n",
      "Epoch 37/50\n",
      "95/95 [==============================] - 1s 12ms/step - loss: 1.3088e-04\n",
      "Epoch 38/50\n",
      "95/95 [==============================] - 1s 12ms/step - loss: 1.1471e-04\n",
      "Epoch 39/50\n",
      "95/95 [==============================] - 1s 12ms/step - loss: 1.3348e-04\n",
      "Epoch 40/50\n",
      "95/95 [==============================] - 1s 12ms/step - loss: 1.3019e-04\n",
      "Epoch 41/50\n",
      "95/95 [==============================] - 1s 12ms/step - loss: 1.1876e-04\n",
      "Epoch 42/50\n",
      "95/95 [==============================] - 1s 12ms/step - loss: 1.2238e-04\n",
      "Epoch 43/50\n",
      "95/95 [==============================] - 1s 12ms/step - loss: 1.2273e-04\n",
      "Epoch 44/50\n",
      "95/95 [==============================] - 1s 12ms/step - loss: 1.1867e-04\n",
      "Epoch 45/50\n",
      "95/95 [==============================] - 1s 12ms/step - loss: 1.2099e-04\n",
      "Epoch 46/50\n",
      "95/95 [==============================] - 1s 12ms/step - loss: 1.1884e-04\n",
      "Epoch 47/50\n",
      "95/95 [==============================] - 1s 12ms/step - loss: 1.1282e-04\n",
      "Epoch 48/50\n",
      "95/95 [==============================] - 1s 12ms/step - loss: 1.1695e-04\n",
      "Epoch 49/50\n",
      "95/95 [==============================] - 1s 12ms/step - loss: 1.1395e-04\n",
      "Epoch 50/50\n",
      "95/95 [==============================] - 1s 12ms/step - loss: 1.1363e-04\n"
     ]
    },
    {
     "data": {
      "text/plain": [
       "<keras.src.callbacks.History at 0x1e4fab9ce90>"
      ]
     },
     "execution_count": 381,
     "metadata": {},
     "output_type": "execute_result"
    }
   ],
   "source": [
    "# Defino la red secuencial\n",
    "model = Sequential()\n",
    "model.add(LSTM(units=na, input_shape=dim_entry, activation=\"tanh\"))\n",
    "model.add(Dense(units=dim_out))\n",
    "model.compile(optimizer='rmsprop', loss='mse')\n",
    "model.fit(x_train, y_train, epochs=50, batch_size=32)"
   ]
  },
  {
   "cell_type": "code",
   "execution_count": 382,
   "metadata": {},
   "outputs": [
    {
     "name": "stderr",
     "output_type": "stream",
     "text": [
      "c:\\Users\\agusm\\OneDrive\\Escritorio\\LilMarcian-GitHub\\LilMarcian\\env\\Lib\\site-packages\\sklearn\\base.py:465: UserWarning: X does not have valid feature names, but MinMaxScaler was fitted with feature names\n",
      "  warnings.warn(\n"
     ]
    }
   ],
   "source": [
    "# Preparo los datos de prueba\n",
    "x_test = validate_set.values\n",
    "x_test = sc.transform(x_test)"
   ]
  },
  {
   "cell_type": "code",
   "execution_count": 383,
   "metadata": {},
   "outputs": [],
   "source": [
    "X_test = []\n",
    "for i in range(time_step, len(x_test)):\n",
    "    X_test.append(x_test[i-time_step:i, 0])\n",
    "\n",
    "X_test = np.array(X_test)\n",
    "X_test = np.reshape(X_test, (X_test.shape[0], X_test.shape[1], 1))"
   ]
  },
  {
   "cell_type": "code",
   "execution_count": 384,
   "metadata": {},
   "outputs": [
    {
     "name": "stdout",
     "output_type": "stream",
     "text": [
      "6/6 [==============================] - 0s 5ms/step\n"
     ]
    }
   ],
   "source": [
    "# Realizo la predicción\n",
    "prediction = model.predict(X_test)\n",
    "prediction = sc.inverse_transform(prediction)"
   ]
  },
  {
   "cell_type": "code",
   "execution_count": 387,
   "metadata": {},
   "outputs": [
    {
     "ename": "InvalidIndexError",
     "evalue": "(1, slice(0, 190, None))",
     "output_type": "error",
     "traceback": [
      "\u001b[1;31m---------------------------------------------------------------------------\u001b[0m",
      "\u001b[1;31mTypeError\u001b[0m                                 Traceback (most recent call last)",
      "File \u001b[1;32mc:\\Users\\agusm\\OneDrive\\Escritorio\\LilMarcian-GitHub\\LilMarcian\\env\\Lib\\site-packages\\pandas\\core\\indexes\\base.py:3790\u001b[0m, in \u001b[0;36mIndex.get_loc\u001b[1;34m(self, key)\u001b[0m\n\u001b[0;32m   3789\u001b[0m \u001b[39mtry\u001b[39;00m:\n\u001b[1;32m-> 3790\u001b[0m     \u001b[39mreturn\u001b[39;00m \u001b[39mself\u001b[39;49m\u001b[39m.\u001b[39;49m_engine\u001b[39m.\u001b[39;49mget_loc(casted_key)\n\u001b[0;32m   3791\u001b[0m \u001b[39mexcept\u001b[39;00m \u001b[39mKeyError\u001b[39;00m \u001b[39mas\u001b[39;00m err:\n",
      "File \u001b[1;32mindex.pyx:152\u001b[0m, in \u001b[0;36mpandas._libs.index.IndexEngine.get_loc\u001b[1;34m()\u001b[0m\n",
      "File \u001b[1;32mindex.pyx:158\u001b[0m, in \u001b[0;36mpandas._libs.index.IndexEngine.get_loc\u001b[1;34m()\u001b[0m\n",
      "\u001b[1;31mTypeError\u001b[0m: '(1, slice(0, 190, None))' is an invalid key",
      "\nDuring handling of the above exception, another exception occurred:\n",
      "\u001b[1;31mInvalidIndexError\u001b[0m                         Traceback (most recent call last)",
      "Cell \u001b[1;32mIn[387], line 1\u001b[0m\n\u001b[1;32m----> 1\u001b[0m \u001b[43mgraph_prediction\u001b[49m\u001b[43m(\u001b[49m\u001b[43mvalidate_set\u001b[49m\u001b[38;5;241;43m.\u001b[39;49m\u001b[43mreset_index\u001b[49m\u001b[43m(\u001b[49m\u001b[43m)\u001b[49m\u001b[43m,\u001b[49m\u001b[43m \u001b[49m\u001b[43mprediction\u001b[49m\u001b[43m)\u001b[49m\n",
      "Cell \u001b[1;32mIn[386], line 2\u001b[0m, in \u001b[0;36mgraph_prediction\u001b[1;34m(real, prediction)\u001b[0m\n\u001b[0;32m      1\u001b[0m \u001b[38;5;28;01mdef\u001b[39;00m \u001b[38;5;21mgraph_prediction\u001b[39m(real, prediction):\n\u001b[1;32m----> 2\u001b[0m     plt\u001b[38;5;241m.\u001b[39mplot(\u001b[43mreal\u001b[49m\u001b[43m[\u001b[49m\u001b[38;5;241;43m1\u001b[39;49m\u001b[43m,\u001b[49m\u001b[38;5;241;43m0\u001b[39;49m\u001b[43m:\u001b[49m\u001b[38;5;28;43mlen\u001b[39;49m\u001b[43m(\u001b[49m\u001b[43mprediction\u001b[49m\u001b[43m)\u001b[49m\u001b[43m]\u001b[49m, color\u001b[38;5;241m=\u001b[39m\u001b[38;5;124m'\u001b[39m\u001b[38;5;124mred\u001b[39m\u001b[38;5;124m'\u001b[39m, label\u001b[38;5;241m=\u001b[39m\u001b[38;5;124m'\u001b[39m\u001b[38;5;124mValor real de la acción\u001b[39m\u001b[38;5;124m'\u001b[39m)\n\u001b[0;32m      3\u001b[0m     plt\u001b[38;5;241m.\u001b[39mplot(prediction, color\u001b[38;5;241m=\u001b[39m\u001b[38;5;124m'\u001b[39m\u001b[38;5;124mblue\u001b[39m\u001b[38;5;124m'\u001b[39m, label\u001b[38;5;241m=\u001b[39m\u001b[38;5;124m'\u001b[39m\u001b[38;5;124mPredicción de la acción\u001b[39m\u001b[38;5;124m'\u001b[39m)\n\u001b[0;32m      4\u001b[0m     plt\u001b[38;5;241m.\u001b[39mylim(\u001b[38;5;241m1.1\u001b[39m \u001b[38;5;241m*\u001b[39m np\u001b[38;5;241m.\u001b[39mmin(prediction) \u001b[38;5;241m/\u001b[39m \u001b[38;5;241m2\u001b[39m, \u001b[38;5;241m1.1\u001b[39m \u001b[38;5;241m*\u001b[39m np\u001b[38;5;241m.\u001b[39mmax(prediction))\n",
      "File \u001b[1;32mc:\\Users\\agusm\\OneDrive\\Escritorio\\LilMarcian-GitHub\\LilMarcian\\env\\Lib\\site-packages\\pandas\\core\\frame.py:3896\u001b[0m, in \u001b[0;36mDataFrame.__getitem__\u001b[1;34m(self, key)\u001b[0m\n\u001b[0;32m   3894\u001b[0m \u001b[39mif\u001b[39;00m \u001b[39mself\u001b[39m\u001b[39m.\u001b[39mcolumns\u001b[39m.\u001b[39mnlevels \u001b[39m>\u001b[39m \u001b[39m1\u001b[39m:\n\u001b[0;32m   3895\u001b[0m     \u001b[39mreturn\u001b[39;00m \u001b[39mself\u001b[39m\u001b[39m.\u001b[39m_getitem_multilevel(key)\n\u001b[1;32m-> 3896\u001b[0m indexer \u001b[39m=\u001b[39m \u001b[39mself\u001b[39;49m\u001b[39m.\u001b[39;49mcolumns\u001b[39m.\u001b[39;49mget_loc(key)\n\u001b[0;32m   3897\u001b[0m \u001b[39mif\u001b[39;00m is_integer(indexer):\n\u001b[0;32m   3898\u001b[0m     indexer \u001b[39m=\u001b[39m [indexer]\n",
      "File \u001b[1;32mc:\\Users\\agusm\\OneDrive\\Escritorio\\LilMarcian-GitHub\\LilMarcian\\env\\Lib\\site-packages\\pandas\\core\\indexes\\base.py:3802\u001b[0m, in \u001b[0;36mIndex.get_loc\u001b[1;34m(self, key)\u001b[0m\n\u001b[0;32m   3797\u001b[0m     \u001b[39mraise\u001b[39;00m \u001b[39mKeyError\u001b[39;00m(key) \u001b[39mfrom\u001b[39;00m \u001b[39merr\u001b[39;00m\n\u001b[0;32m   3798\u001b[0m \u001b[39mexcept\u001b[39;00m \u001b[39mTypeError\u001b[39;00m:\n\u001b[0;32m   3799\u001b[0m     \u001b[39m# If we have a listlike key, _check_indexing_error will raise\u001b[39;00m\n\u001b[0;32m   3800\u001b[0m     \u001b[39m#  InvalidIndexError. Otherwise we fall through and re-raise\u001b[39;00m\n\u001b[0;32m   3801\u001b[0m     \u001b[39m#  the TypeError.\u001b[39;00m\n\u001b[1;32m-> 3802\u001b[0m     \u001b[39mself\u001b[39;49m\u001b[39m.\u001b[39;49m_check_indexing_error(key)\n\u001b[0;32m   3803\u001b[0m     \u001b[39mraise\u001b[39;00m\n",
      "File \u001b[1;32mc:\\Users\\agusm\\OneDrive\\Escritorio\\LilMarcian-GitHub\\LilMarcian\\env\\Lib\\site-packages\\pandas\\core\\indexes\\base.py:5974\u001b[0m, in \u001b[0;36mIndex._check_indexing_error\u001b[1;34m(self, key)\u001b[0m\n\u001b[0;32m   5970\u001b[0m \u001b[39mdef\u001b[39;00m \u001b[39m_check_indexing_error\u001b[39m(\u001b[39mself\u001b[39m, key):\n\u001b[0;32m   5971\u001b[0m     \u001b[39mif\u001b[39;00m \u001b[39mnot\u001b[39;00m is_scalar(key):\n\u001b[0;32m   5972\u001b[0m         \u001b[39m# if key is not a scalar, directly raise an error (the code below\u001b[39;00m\n\u001b[0;32m   5973\u001b[0m         \u001b[39m# would convert to numpy arrays and raise later any way) - GH29926\u001b[39;00m\n\u001b[1;32m-> 5974\u001b[0m         \u001b[39mraise\u001b[39;00m InvalidIndexError(key)\n",
      "\u001b[1;31mInvalidIndexError\u001b[0m: (1, slice(0, 190, None))"
     ]
    }
   ],
   "source": [
    "graph_prediction(validate_set.reset_index(), prediction)"
   ]
  },
  {
   "cell_type": "code",
   "execution_count": null,
   "metadata": {},
   "outputs": [],
   "source": []
  }
 ],
 "metadata": {
  "kernelspec": {
   "display_name": "Python 3.11.4 ('env': venv)",
   "language": "python",
   "name": "python3"
  },
  "language_info": {
   "codemirror_mode": {
    "name": "ipython",
    "version": 3
   },
   "file_extension": ".py",
   "mimetype": "text/x-python",
   "name": "python",
   "nbconvert_exporter": "python",
   "pygments_lexer": "ipython3",
   "version": "3.11.4"
  },
  "orig_nbformat": 4,
  "vscode": {
   "interpreter": {
    "hash": "0472aa9c384a9239f6715ddb2f043cd9922a4970077915a84953f1d795e50591"
   }
  }
 },
 "nbformat": 4,
 "nbformat_minor": 2
}
