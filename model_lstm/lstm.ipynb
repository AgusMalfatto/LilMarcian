{
 "cells": [
  {
   "cell_type": "markdown",
   "metadata": {},
   "source": [
    "Análisis del DataFrame obtenido mediante YahooFinance. \n",
    "Objetivo: Identificar las variables más propensas a influir en el valor de la acción."
   ]
  },
  {
   "cell_type": "code",
   "execution_count": null,
   "metadata": {},
   "outputs": [],
   "source": [
    "import yfinance as yf\n",
    "import pandas as pd\n",
    "import numpy as np"
   ]
  },
  {
   "cell_type": "code",
   "execution_count": null,
   "metadata": {},
   "outputs": [],
   "source": [
    "ticker = yf.Ticker(\"AAPL\")\n",
    "info = ticker.info\n",
    " \n",
    "data = yf.download(\"TSLA\", start='2010-07-13', end='2023-09-18')\n",
    "df = pd.DataFrame(data)\n",
    "df['SMA_10'] = df['Close'].rolling(window=10).mean()\n",
    "df.dropna(subset=['SMA_10'], inplace=True)\n",
    "df.reset_index(inplace=True)"
   ]
  },
  {
   "cell_type": "code",
   "execution_count": null,
   "metadata": {},
   "outputs": [],
   "source": [
    "df.head()"
   ]
  },
  {
   "cell_type": "code",
   "execution_count": 9,
   "metadata": {},
   "outputs": [],
   "source": [
    "import matplotlib.pyplot as plt"
   ]
  },
  {
   "cell_type": "code",
   "execution_count": 26,
   "metadata": {},
   "outputs": [],
   "source": [
    "del(df[\"Volume\"])"
   ]
  },
  {
   "cell_type": "code",
   "execution_count": 23,
   "metadata": {},
   "outputs": [],
   "source": [
    "df['Average'] = df[['Open', 'High', 'Low', 'Open']].mean(axis=1)"
   ]
  },
  {
   "cell_type": "code",
   "execution_count": 27,
   "metadata": {},
   "outputs": [
    {
     "data": {
      "text/html": [
       "<style type=\"text/css\">\n",
       "#T_71cfe_row0_col0, #T_71cfe_row1_col1, #T_71cfe_row1_col2, #T_71cfe_row1_col3, #T_71cfe_row1_col6, #T_71cfe_row2_col1, #T_71cfe_row2_col2, #T_71cfe_row2_col3, #T_71cfe_row2_col4, #T_71cfe_row2_col6, #T_71cfe_row3_col1, #T_71cfe_row3_col2, #T_71cfe_row3_col3, #T_71cfe_row3_col4, #T_71cfe_row3_col6, #T_71cfe_row4_col2, #T_71cfe_row4_col3, #T_71cfe_row4_col4, #T_71cfe_row4_col6, #T_71cfe_row5_col5, #T_71cfe_row6_col1, #T_71cfe_row6_col2, #T_71cfe_row6_col3, #T_71cfe_row6_col4, #T_71cfe_row6_col6 {\n",
       "  background-color: #023858;\n",
       "  color: #f1f1f1;\n",
       "}\n",
       "#T_71cfe_row0_col1, #T_71cfe_row0_col2, #T_71cfe_row0_col3, #T_71cfe_row0_col4, #T_71cfe_row0_col5, #T_71cfe_row0_col6, #T_71cfe_row1_col0 {\n",
       "  background-color: #fff7fb;\n",
       "  color: #000000;\n",
       "}\n",
       "#T_71cfe_row1_col4, #T_71cfe_row4_col1 {\n",
       "  background-color: #02395a;\n",
       "  color: #f1f1f1;\n",
       "}\n",
       "#T_71cfe_row1_col5, #T_71cfe_row2_col5, #T_71cfe_row3_col5, #T_71cfe_row4_col5, #T_71cfe_row5_col1, #T_71cfe_row5_col2, #T_71cfe_row5_col3, #T_71cfe_row5_col4, #T_71cfe_row5_col6, #T_71cfe_row6_col5 {\n",
       "  background-color: #023b5d;\n",
       "  color: #f1f1f1;\n",
       "}\n",
       "#T_71cfe_row2_col0, #T_71cfe_row3_col0, #T_71cfe_row4_col0, #T_71cfe_row5_col0, #T_71cfe_row6_col0 {\n",
       "  background-color: #fef6fb;\n",
       "  color: #000000;\n",
       "}\n",
       "</style>\n",
       "<table id=\"T_71cfe\">\n",
       "  <thead>\n",
       "    <tr>\n",
       "      <th class=\"blank level0\" >&nbsp;</th>\n",
       "      <th id=\"T_71cfe_level0_col0\" class=\"col_heading level0 col0\" >Date</th>\n",
       "      <th id=\"T_71cfe_level0_col1\" class=\"col_heading level0 col1\" >Open</th>\n",
       "      <th id=\"T_71cfe_level0_col2\" class=\"col_heading level0 col2\" >High</th>\n",
       "      <th id=\"T_71cfe_level0_col3\" class=\"col_heading level0 col3\" >Low</th>\n",
       "      <th id=\"T_71cfe_level0_col4\" class=\"col_heading level0 col4\" >Close</th>\n",
       "      <th id=\"T_71cfe_level0_col5\" class=\"col_heading level0 col5\" >SMA_10</th>\n",
       "      <th id=\"T_71cfe_level0_col6\" class=\"col_heading level0 col6\" >Average</th>\n",
       "    </tr>\n",
       "  </thead>\n",
       "  <tbody>\n",
       "    <tr>\n",
       "      <th id=\"T_71cfe_level0_row0\" class=\"row_heading level0 row0\" >Date</th>\n",
       "      <td id=\"T_71cfe_row0_col0\" class=\"data row0 col0\" >1.000000</td>\n",
       "      <td id=\"T_71cfe_row0_col1\" class=\"data row0 col1\" >0.757000</td>\n",
       "      <td id=\"T_71cfe_row0_col2\" class=\"data row0 col2\" >0.758000</td>\n",
       "      <td id=\"T_71cfe_row0_col3\" class=\"data row0 col3\" >0.758000</td>\n",
       "      <td id=\"T_71cfe_row0_col4\" class=\"data row0 col4\" >0.758000</td>\n",
       "      <td id=\"T_71cfe_row0_col5\" class=\"data row0 col5\" >0.758000</td>\n",
       "      <td id=\"T_71cfe_row0_col6\" class=\"data row0 col6\" >0.758000</td>\n",
       "    </tr>\n",
       "    <tr>\n",
       "      <th id=\"T_71cfe_level0_row1\" class=\"row_heading level0 row1\" >Open</th>\n",
       "      <td id=\"T_71cfe_row1_col0\" class=\"data row1 col0\" >0.757000</td>\n",
       "      <td id=\"T_71cfe_row1_col1\" class=\"data row1 col1\" >1.000000</td>\n",
       "      <td id=\"T_71cfe_row1_col2\" class=\"data row1 col2\" >1.000000</td>\n",
       "      <td id=\"T_71cfe_row1_col3\" class=\"data row1 col3\" >1.000000</td>\n",
       "      <td id=\"T_71cfe_row1_col4\" class=\"data row1 col4\" >0.999000</td>\n",
       "      <td id=\"T_71cfe_row1_col5\" class=\"data row1 col5\" >0.997000</td>\n",
       "      <td id=\"T_71cfe_row1_col6\" class=\"data row1 col6\" >1.000000</td>\n",
       "    </tr>\n",
       "    <tr>\n",
       "      <th id=\"T_71cfe_level0_row2\" class=\"row_heading level0 row2\" >High</th>\n",
       "      <td id=\"T_71cfe_row2_col0\" class=\"data row2 col0\" >0.758000</td>\n",
       "      <td id=\"T_71cfe_row2_col1\" class=\"data row2 col1\" >1.000000</td>\n",
       "      <td id=\"T_71cfe_row2_col2\" class=\"data row2 col2\" >1.000000</td>\n",
       "      <td id=\"T_71cfe_row2_col3\" class=\"data row2 col3\" >1.000000</td>\n",
       "      <td id=\"T_71cfe_row2_col4\" class=\"data row2 col4\" >1.000000</td>\n",
       "      <td id=\"T_71cfe_row2_col5\" class=\"data row2 col5\" >0.997000</td>\n",
       "      <td id=\"T_71cfe_row2_col6\" class=\"data row2 col6\" >1.000000</td>\n",
       "    </tr>\n",
       "    <tr>\n",
       "      <th id=\"T_71cfe_level0_row3\" class=\"row_heading level0 row3\" >Low</th>\n",
       "      <td id=\"T_71cfe_row3_col0\" class=\"data row3 col0\" >0.758000</td>\n",
       "      <td id=\"T_71cfe_row3_col1\" class=\"data row3 col1\" >1.000000</td>\n",
       "      <td id=\"T_71cfe_row3_col2\" class=\"data row3 col2\" >1.000000</td>\n",
       "      <td id=\"T_71cfe_row3_col3\" class=\"data row3 col3\" >1.000000</td>\n",
       "      <td id=\"T_71cfe_row3_col4\" class=\"data row3 col4\" >1.000000</td>\n",
       "      <td id=\"T_71cfe_row3_col5\" class=\"data row3 col5\" >0.997000</td>\n",
       "      <td id=\"T_71cfe_row3_col6\" class=\"data row3 col6\" >1.000000</td>\n",
       "    </tr>\n",
       "    <tr>\n",
       "      <th id=\"T_71cfe_level0_row4\" class=\"row_heading level0 row4\" >Close</th>\n",
       "      <td id=\"T_71cfe_row4_col0\" class=\"data row4 col0\" >0.758000</td>\n",
       "      <td id=\"T_71cfe_row4_col1\" class=\"data row4 col1\" >0.999000</td>\n",
       "      <td id=\"T_71cfe_row4_col2\" class=\"data row4 col2\" >1.000000</td>\n",
       "      <td id=\"T_71cfe_row4_col3\" class=\"data row4 col3\" >1.000000</td>\n",
       "      <td id=\"T_71cfe_row4_col4\" class=\"data row4 col4\" >1.000000</td>\n",
       "      <td id=\"T_71cfe_row4_col5\" class=\"data row4 col5\" >0.997000</td>\n",
       "      <td id=\"T_71cfe_row4_col6\" class=\"data row4 col6\" >1.000000</td>\n",
       "    </tr>\n",
       "    <tr>\n",
       "      <th id=\"T_71cfe_level0_row5\" class=\"row_heading level0 row5\" >SMA_10</th>\n",
       "      <td id=\"T_71cfe_row5_col0\" class=\"data row5 col0\" >0.758000</td>\n",
       "      <td id=\"T_71cfe_row5_col1\" class=\"data row5 col1\" >0.997000</td>\n",
       "      <td id=\"T_71cfe_row5_col2\" class=\"data row5 col2\" >0.997000</td>\n",
       "      <td id=\"T_71cfe_row5_col3\" class=\"data row5 col3\" >0.997000</td>\n",
       "      <td id=\"T_71cfe_row5_col4\" class=\"data row5 col4\" >0.997000</td>\n",
       "      <td id=\"T_71cfe_row5_col5\" class=\"data row5 col5\" >1.000000</td>\n",
       "      <td id=\"T_71cfe_row5_col6\" class=\"data row5 col6\" >0.997000</td>\n",
       "    </tr>\n",
       "    <tr>\n",
       "      <th id=\"T_71cfe_level0_row6\" class=\"row_heading level0 row6\" >Average</th>\n",
       "      <td id=\"T_71cfe_row6_col0\" class=\"data row6 col0\" >0.758000</td>\n",
       "      <td id=\"T_71cfe_row6_col1\" class=\"data row6 col1\" >1.000000</td>\n",
       "      <td id=\"T_71cfe_row6_col2\" class=\"data row6 col2\" >1.000000</td>\n",
       "      <td id=\"T_71cfe_row6_col3\" class=\"data row6 col3\" >1.000000</td>\n",
       "      <td id=\"T_71cfe_row6_col4\" class=\"data row6 col4\" >1.000000</td>\n",
       "      <td id=\"T_71cfe_row6_col5\" class=\"data row6 col5\" >0.997000</td>\n",
       "      <td id=\"T_71cfe_row6_col6\" class=\"data row6 col6\" >1.000000</td>\n",
       "    </tr>\n",
       "  </tbody>\n",
       "</table>\n"
      ],
      "text/plain": [
       "<pandas.io.formats.style.Styler at 0x16f4cafa290>"
      ]
     },
     "execution_count": 27,
     "metadata": {},
     "output_type": "execute_result"
    }
   ],
   "source": [
    "# Tabla de correlación entre variables.\n",
    "df.corr()\n",
    "corr = round(df.corr(), 3)\n",
    "corr.style.background_gradient()"
   ]
  },
  {
   "cell_type": "markdown",
   "metadata": {},
   "source": [
    "Conclusión: Estoy perdido."
   ]
  },
  {
   "cell_type": "code",
   "execution_count": null,
   "metadata": {},
   "outputs": [],
   "source": []
  }
 ],
 "metadata": {
  "kernelspec": {
   "display_name": "Python 3.11.4 ('env': venv)",
   "language": "python",
   "name": "python3"
  },
  "language_info": {
   "codemirror_mode": {
    "name": "ipython",
    "version": 3
   },
   "file_extension": ".py",
   "mimetype": "text/x-python",
   "name": "python",
   "nbconvert_exporter": "python",
   "pygments_lexer": "ipython3",
   "version": "3.11.4"
  },
  "orig_nbformat": 4,
  "vscode": {
   "interpreter": {
    "hash": "7374e0c7c8f2a6c1fd2380079f9eed6097ef66d7fa3b11f662293e217dc28ed1"
   }
  }
 },
 "nbformat": 4,
 "nbformat_minor": 2
}
