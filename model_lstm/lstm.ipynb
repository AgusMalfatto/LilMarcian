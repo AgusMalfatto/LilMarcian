{
 "cells": [
  {
   "cell_type": "markdown",
   "metadata": {},
   "source": [
    "Análisis del DataFrame obtenido mediante YahooFinance. \n",
    "Objetivo: Identificar las variables más propensas a influir en el valor de la acción."
   ]
  },
  {
   "cell_type": "code",
<<<<<<< HEAD
   "execution_count": 2,
=======
   "execution_count": 575,
>>>>>>> fdf948c1c308e54bbd8089fa502c754679661ac0
   "metadata": {},
   "outputs": [],
   "source": [
    "import yfinance as yf\n",
    "import pandas as pd\n",
    "import numpy as np\n",
    "import matplotlib.pyplot as plt\n",
    "from sklearn.preprocessing import MinMaxScaler"
   ]
  },
  {
   "cell_type": "code",
<<<<<<< HEAD
   "execution_count": 3,
=======
   "execution_count": 576,
>>>>>>> fdf948c1c308e54bbd8089fa502c754679661ac0
   "metadata": {},
   "outputs": [
    {
     "name": "stdout",
     "output_type": "stream",
     "text": [
      "[*********************100%%**********************]  1 of 1 completed\n"
     ]
    }
   ],
   "source": [
    "from keras.models import Sequential\n",
    "from keras.layers import Dense, LSTM\n",
    "from sklearn.metrics import mean_squared_error"
   ]
  },
  {
   "cell_type": "code",
   "execution_count": 577,
   "metadata": {},
   "outputs": [],
   "source": [
    "def graph_prediction(real, prediction):\n",
    "    real_date = real['Date']\n",
    "    real_close = real['Close']\n",
    "\n",
    "    plt.plot(real_date[0:len(prediction)], real_close[0:len(prediction)], color='red', label='Valor real de la acción')\n",
    "    plt.plot(real_date[0:len(prediction)], prediction, color='blue', label='Predicción de la acción')\n",
    "    \n",
    "    # Establecer las etiquetas de las fechas en el eje x\n",
    "    plt.xticks(rotation=45)\n",
    "    \n",
    "    plt.ylim(1.1 * np.min(prediction) / 2, 1.1 * np.max(prediction))\n",
    "    plt.xlabel('Fecha')\n",
    "    plt.ylabel(\"Valor de la Acción\")\n",
    "    plt.legend()\n",
    "    plt.grid(True)\n",
    "    plt.show()"
   ]
  },
  {
   "cell_type": "code",
   "execution_count": 578,
   "metadata": {},
   "outputs": [
    {
     "name": "stdout",
     "output_type": "stream",
     "text": [
      "[*********************100%%**********************]  1 of 1 completed\n"
     ]
    }
   ],
   "source": [
    "ticker = yf.Ticker(\"AAPL\")\n",
    "info = ticker.info\n",
    " \n",
    "data = yf.download(\"GOOGL\", start='2010-07-13', end='2023-10-01')\n",
    "df = pd.DataFrame(data)\n",
    "df['SMA_10'] = df['Close'].rolling(window=10).mean()\n",
    "df.dropna(subset=['SMA_10'], inplace=True)\n",
    "df.reset_index(inplace=True)"
   ]
  },
  {
   "cell_type": "code",
   "execution_count": 17,
   "metadata": {},
   "outputs": [],
   "source": [
<<<<<<< HEAD
    "\n",
    "df['SMA_50'] = df['Close'].rolling(window=50).mean()\n",
    "df['SMA_200'] = df['Close'].rolling(window=200).mean()"
=======
    "df.tail()"
   ]
  },
  {
   "cell_type": "code",
   "execution_count": 579,
   "metadata": {},
   "outputs": [
    {
     "name": "stdout",
     "output_type": "stream",
     "text": [
      "           Date       Close     Volume\n",
      "0    2010-07-26   12.236486   79728192\n",
      "1    2010-07-27   12.328078   97949952\n",
      "2    2010-07-28   12.120871   99740160\n",
      "3    2010-07-29   12.136887  106912980\n",
      "4    2010-07-30   12.133383   85678236\n",
      "...         ...         ...        ...\n",
      "3064 2022-09-26   98.169998   27072700\n",
      "3065 2022-09-27   97.500000   30072800\n",
      "3066 2022-09-28  100.050003   32466300\n",
      "3067 2022-09-29   97.419998   31047200\n",
      "3068 2022-09-30   95.650002   32941500\n",
      "\n",
      "[3069 rows x 3 columns]\n",
      "           Date       Close    Volume\n",
      "3069 2022-10-03   98.639999  27982000\n",
      "3070 2022-10-04  101.639999  28850800\n",
      "3071 2022-10-05  101.430000  22176900\n",
      "3072 2022-10-06  101.419998  22324000\n",
      "3073 2022-10-07   98.680000  27502800\n",
      "...         ...         ...       ...\n",
      "3314 2023-09-25  131.110001  20094600\n",
      "3315 2023-09-26  128.570007  25718700\n",
      "3316 2023-09-27  130.539993  22746500\n",
      "3317 2023-09-28  132.309998  22513100\n",
      "3318 2023-09-29  130.860001  30848100\n",
      "\n",
      "[250 rows x 3 columns]\n"
     ]
    },
    {
     "name": "stderr",
     "output_type": "stream",
     "text": [
      "C:\\Users\\agusm\\AppData\\Local\\Temp\\ipykernel_12736\\3462693044.py:5: SettingWithCopyWarning: \n",
      "A value is trying to be set on a copy of a slice from a DataFrame\n",
      "\n",
      "See the caveats in the documentation: https://pandas.pydata.org/pandas-docs/stable/user_guide/indexing.html#returning-a-view-versus-a-copy\n",
      "  train_set.drop(columns=[\"Open\", \"High\", \"Low\", \"Adj Close\", \"SMA_10\"], inplace=True)\n",
      "C:\\Users\\agusm\\AppData\\Local\\Temp\\ipykernel_12736\\3462693044.py:6: SettingWithCopyWarning: \n",
      "A value is trying to be set on a copy of a slice from a DataFrame\n",
      "\n",
      "See the caveats in the documentation: https://pandas.pydata.org/pandas-docs/stable/user_guide/indexing.html#returning-a-view-versus-a-copy\n",
      "  validate_set.drop(columns=[\"Open\", \"High\", \"Low\", \"Adj Close\", \"SMA_10\"], inplace=True)\n"
     ]
    }
   ],
   "source": [
    "# Extraemos los datos de la media movil hasta el 2022-09-31 para el entrenamiento, y del 2022-10-01 en adelante para la validación\n",
    "train_set = df[df['Date'] <= '2022-09-30']\n",
    "validate_set = df[df['Date'] >= '2022-10-01']\n",
    "# Eliminamos las columnas innecesarias\n",
    "train_set.drop(columns=[\"Open\", \"High\", \"Low\", \"Adj Close\", \"SMA_10\"], inplace=True)\n",
    "validate_set.drop(columns=[\"Open\", \"High\", \"Low\", \"Adj Close\", \"SMA_10\"], inplace=True)\n",
    "\n",
    "print(train_set)\n",
    "print(validate_set)"
   ]
  },
  {
   "cell_type": "code",
   "execution_count": 580,
   "metadata": {},
   "outputs": [],
   "source": [
    "# Establecer la columna \"Date\" como índice\n",
    "train_set.set_index('Date', inplace=True)\n",
    "validate_set.set_index('Date', inplace=True)"
>>>>>>> fdf948c1c308e54bbd8089fa502c754679661ac0
   ]
  },
  {
   "cell_type": "code",
   "execution_count": 4,
   "metadata": {},
   "outputs": [],
   "source": [
    "# Gráfico para observar los datos de entrenamiento y validación.\n",
    "train_set[\"Close\"].plot(legend=True)\n",
    "validate_set[\"Close\"].plot(legend=True)\n",
    "plt.legend(['Train (2015 - 2022/09)', 'Validate (2022/10)'])\n",
    "plt.show()"
   ]
  },
  {
   "cell_type": "code",
   "execution_count": 5,
   "metadata": {},
   "outputs": [],
   "source": [
    "# Normalizamos los datos de entrenamiento entre 0-1\n",
    "sc = MinMaxScaler(feature_range=(0,1))\n",
    "train_set_normal = sc.fit_transform(train_set)"
   ]
  },
  {
   "cell_type": "code",
   "execution_count": 581,
   "metadata": {},
   "outputs": [
    {
     "ename": "InvalidIndexError",
     "evalue": "(slice(0, 60, None), 0)",
     "output_type": "error",
     "traceback": [
      "\u001b[1;31m---------------------------------------------------------------------------\u001b[0m",
      "\u001b[1;31mTypeError\u001b[0m                                 Traceback (most recent call last)",
      "File \u001b[1;32mc:\\Users\\agusm\\OneDrive\\Escritorio\\LilMarcian-GitHub\\LilMarcian\\env\\Lib\\site-packages\\pandas\\core\\indexes\\base.py:3790\u001b[0m, in \u001b[0;36mIndex.get_loc\u001b[1;34m(self, key)\u001b[0m\n\u001b[0;32m   3789\u001b[0m \u001b[39mtry\u001b[39;00m:\n\u001b[1;32m-> 3790\u001b[0m     \u001b[39mreturn\u001b[39;00m \u001b[39mself\u001b[39;49m\u001b[39m.\u001b[39;49m_engine\u001b[39m.\u001b[39;49mget_loc(casted_key)\n\u001b[0;32m   3791\u001b[0m \u001b[39mexcept\u001b[39;00m \u001b[39mKeyError\u001b[39;00m \u001b[39mas\u001b[39;00m err:\n",
      "File \u001b[1;32mindex.pyx:152\u001b[0m, in \u001b[0;36mpandas._libs.index.IndexEngine.get_loc\u001b[1;34m()\u001b[0m\n",
      "File \u001b[1;32mindex.pyx:158\u001b[0m, in \u001b[0;36mpandas._libs.index.IndexEngine.get_loc\u001b[1;34m()\u001b[0m\n",
      "\u001b[1;31mTypeError\u001b[0m: '(slice(0, 60, None), 0)' is an invalid key",
      "\nDuring handling of the above exception, another exception occurred:\n",
      "\u001b[1;31mInvalidIndexError\u001b[0m                         Traceback (most recent call last)",
      "Cell \u001b[1;32mIn[581], line 9\u001b[0m\n\u001b[0;32m      5\u001b[0m m \u001b[38;5;241m=\u001b[39m \u001b[38;5;28mlen\u001b[39m(train_set)\n\u001b[0;32m      7\u001b[0m \u001b[38;5;28;01mfor\u001b[39;00m i \u001b[38;5;129;01min\u001b[39;00m \u001b[38;5;28mrange\u001b[39m(time_step, m):\n\u001b[0;32m      8\u001b[0m     \u001b[38;5;66;03m# Datos: 0-time_step; 1-time_step+1; 2-time_step+2; etc.\u001b[39;00m\n\u001b[1;32m----> 9\u001b[0m     x_train\u001b[38;5;241m.\u001b[39mappend(\u001b[43mtrain_set\u001b[49m\u001b[43m[\u001b[49m\u001b[43mi\u001b[49m\u001b[38;5;241;43m-\u001b[39;49m\u001b[43mtime_step\u001b[49m\u001b[43m:\u001b[49m\u001b[43mi\u001b[49m\u001b[43m,\u001b[49m\u001b[43m \u001b[49m\u001b[38;5;241;43m0\u001b[39;49m\u001b[43m]\u001b[49m)\n\u001b[0;32m     11\u001b[0m     y_train\u001b[38;5;241m.\u001b[39mappend(train_set[i, \u001b[38;5;241m0\u001b[39m])\n\u001b[0;32m     13\u001b[0m x_train, y_train \u001b[38;5;241m=\u001b[39m np\u001b[38;5;241m.\u001b[39marray(x_train), np\u001b[38;5;241m.\u001b[39marray(y_train)\n",
      "File \u001b[1;32mc:\\Users\\agusm\\OneDrive\\Escritorio\\LilMarcian-GitHub\\LilMarcian\\env\\Lib\\site-packages\\pandas\\core\\frame.py:3896\u001b[0m, in \u001b[0;36mDataFrame.__getitem__\u001b[1;34m(self, key)\u001b[0m\n\u001b[0;32m   3894\u001b[0m \u001b[39mif\u001b[39;00m \u001b[39mself\u001b[39m\u001b[39m.\u001b[39mcolumns\u001b[39m.\u001b[39mnlevels \u001b[39m>\u001b[39m \u001b[39m1\u001b[39m:\n\u001b[0;32m   3895\u001b[0m     \u001b[39mreturn\u001b[39;00m \u001b[39mself\u001b[39m\u001b[39m.\u001b[39m_getitem_multilevel(key)\n\u001b[1;32m-> 3896\u001b[0m indexer \u001b[39m=\u001b[39m \u001b[39mself\u001b[39;49m\u001b[39m.\u001b[39;49mcolumns\u001b[39m.\u001b[39;49mget_loc(key)\n\u001b[0;32m   3897\u001b[0m \u001b[39mif\u001b[39;00m is_integer(indexer):\n\u001b[0;32m   3898\u001b[0m     indexer \u001b[39m=\u001b[39m [indexer]\n",
      "File \u001b[1;32mc:\\Users\\agusm\\OneDrive\\Escritorio\\LilMarcian-GitHub\\LilMarcian\\env\\Lib\\site-packages\\pandas\\core\\indexes\\base.py:3802\u001b[0m, in \u001b[0;36mIndex.get_loc\u001b[1;34m(self, key)\u001b[0m\n\u001b[0;32m   3797\u001b[0m     \u001b[39mraise\u001b[39;00m \u001b[39mKeyError\u001b[39;00m(key) \u001b[39mfrom\u001b[39;00m \u001b[39merr\u001b[39;00m\n\u001b[0;32m   3798\u001b[0m \u001b[39mexcept\u001b[39;00m \u001b[39mTypeError\u001b[39;00m:\n\u001b[0;32m   3799\u001b[0m     \u001b[39m# If we have a listlike key, _check_indexing_error will raise\u001b[39;00m\n\u001b[0;32m   3800\u001b[0m     \u001b[39m#  InvalidIndexError. Otherwise we fall through and re-raise\u001b[39;00m\n\u001b[0;32m   3801\u001b[0m     \u001b[39m#  the TypeError.\u001b[39;00m\n\u001b[1;32m-> 3802\u001b[0m     \u001b[39mself\u001b[39;49m\u001b[39m.\u001b[39;49m_check_indexing_error(key)\n\u001b[0;32m   3803\u001b[0m     \u001b[39mraise\u001b[39;00m\n",
      "File \u001b[1;32mc:\\Users\\agusm\\OneDrive\\Escritorio\\LilMarcian-GitHub\\LilMarcian\\env\\Lib\\site-packages\\pandas\\core\\indexes\\base.py:5974\u001b[0m, in \u001b[0;36mIndex._check_indexing_error\u001b[1;34m(self, key)\u001b[0m\n\u001b[0;32m   5970\u001b[0m \u001b[39mdef\u001b[39;00m \u001b[39m_check_indexing_error\u001b[39m(\u001b[39mself\u001b[39m, key):\n\u001b[0;32m   5971\u001b[0m     \u001b[39mif\u001b[39;00m \u001b[39mnot\u001b[39;00m is_scalar(key):\n\u001b[0;32m   5972\u001b[0m         \u001b[39m# if key is not a scalar, directly raise an error (the code below\u001b[39;00m\n\u001b[0;32m   5973\u001b[0m         \u001b[39m# would convert to numpy arrays and raise later any way) - GH29926\u001b[39;00m\n\u001b[1;32m-> 5974\u001b[0m         \u001b[39mraise\u001b[39;00m InvalidIndexError(key)\n",
      "\u001b[1;31mInvalidIndexError\u001b[0m: (slice(0, 60, None), 0)"
     ]
    }
   ],
   "source": [
    "# La red LSTM tendrá como entrada \"time_step\" datos consecutivos, y como salida 1 dato (es el resultado de la predicción a partir de esos \"time_step\" datos). Se conforma de esta manera el set de entrenamiento.\n",
    "time_step = 60\n",
    "x_train = []\n",
    "y_train = []\n",
    "m = len(train_set)\n",
    "\n",
    "for i in range(time_step, m):\n",
    "    # Datos: 0-time_step; 1-time_step+1; 2-time_step+2; etc.\n",
    "    x_train.append(train_set[i-time_step:i, 0])\n",
    "\n",
    "    y_train.append(train_set[i, 0])\n",
    "\n",
    "x_train, y_train = np.array(x_train), np.array(y_train)\n",
    "x_train = np.reshape(x_train, (x_train.shape[0], x_train.shape[1], 1))\n",
    "len(x_train)"
   ]
  },
  {
   "cell_type": "code",
   "execution_count": 6,
   "metadata": {},
   "outputs": [],
   "source": [
    "# Defino el modelo de entrada y salida de la red\n",
    "dim_entry = (x_train.shape[1], 1)\n",
    "dim_out = 1\n",
    "na = 50"
   ]
  },
  {
   "cell_type": "code",
   "execution_count": 8,
   "metadata": {},
   "outputs": [],
   "source": [
<<<<<<< HEAD
    "df['Open_Close_Mean'] = df[['Open', 'Close']].mean(axis=1)"
   ]
  },
  {
   "cell_type": "code",
   "execution_count": 9,
   "metadata": {},
   "outputs": [],
   "source": [
    "df['High_Low_Mean'] = df[['High', 'Low']].mean(axis=1)"
   ]
  },
  {
   "cell_type": "code",
   "execution_count": 18,
   "metadata": {},
   "outputs": [
    {
     "data": {
      "text/html": [
       "<style type=\"text/css\">\n",
       "#T_8997b_row0_col0, #T_8997b_row1_col1, #T_8997b_row1_col2, #T_8997b_row1_col3, #T_8997b_row1_col7, #T_8997b_row1_col8, #T_8997b_row1_col9, #T_8997b_row2_col1, #T_8997b_row2_col2, #T_8997b_row2_col3, #T_8997b_row2_col4, #T_8997b_row2_col5, #T_8997b_row2_col7, #T_8997b_row2_col8, #T_8997b_row2_col9, #T_8997b_row3_col1, #T_8997b_row3_col2, #T_8997b_row3_col3, #T_8997b_row3_col4, #T_8997b_row3_col5, #T_8997b_row3_col7, #T_8997b_row3_col8, #T_8997b_row3_col9, #T_8997b_row4_col2, #T_8997b_row4_col3, #T_8997b_row4_col4, #T_8997b_row4_col5, #T_8997b_row4_col7, #T_8997b_row4_col8, #T_8997b_row4_col9, #T_8997b_row5_col2, #T_8997b_row5_col3, #T_8997b_row5_col4, #T_8997b_row5_col5, #T_8997b_row5_col7, #T_8997b_row5_col8, #T_8997b_row5_col9, #T_8997b_row6_col6, #T_8997b_row7_col1, #T_8997b_row7_col2, #T_8997b_row7_col3, #T_8997b_row7_col4, #T_8997b_row7_col5, #T_8997b_row7_col7, #T_8997b_row7_col8, #T_8997b_row7_col9, #T_8997b_row8_col1, #T_8997b_row8_col2, #T_8997b_row8_col3, #T_8997b_row8_col4, #T_8997b_row8_col5, #T_8997b_row8_col7, #T_8997b_row8_col8, #T_8997b_row8_col9, #T_8997b_row9_col1, #T_8997b_row9_col2, #T_8997b_row9_col3, #T_8997b_row9_col4, #T_8997b_row9_col5, #T_8997b_row9_col7, #T_8997b_row9_col8, #T_8997b_row9_col9, #T_8997b_row10_col10, #T_8997b_row11_col11 {\n",
       "  background-color: #023858;\n",
       "  color: #f1f1f1;\n",
       "}\n",
       "#T_8997b_row0_col1, #T_8997b_row0_col2, #T_8997b_row0_col3, #T_8997b_row0_col4, #T_8997b_row0_col5, #T_8997b_row0_col6, #T_8997b_row0_col7, #T_8997b_row0_col8, #T_8997b_row0_col9, #T_8997b_row0_col10, #T_8997b_row0_col11, #T_8997b_row1_col0 {\n",
       "  background-color: #fff7fb;\n",
       "  color: #000000;\n",
       "}\n",
       "#T_8997b_row1_col4, #T_8997b_row1_col5, #T_8997b_row4_col1, #T_8997b_row5_col1 {\n",
       "  background-color: #02395a;\n",
       "  color: #f1f1f1;\n",
       "}\n",
       "#T_8997b_row1_col6, #T_8997b_row2_col6, #T_8997b_row3_col6, #T_8997b_row4_col6, #T_8997b_row5_col6, #T_8997b_row6_col1, #T_8997b_row6_col2, #T_8997b_row6_col3, #T_8997b_row6_col4, #T_8997b_row6_col5, #T_8997b_row6_col7, #T_8997b_row6_col8, #T_8997b_row6_col9, #T_8997b_row7_col6, #T_8997b_row8_col6, #T_8997b_row9_col6 {\n",
       "  background-color: #023b5d;\n",
       "  color: #f1f1f1;\n",
       "}\n",
       "#T_8997b_row1_col10, #T_8997b_row2_col10, #T_8997b_row7_col10, #T_8997b_row8_col10, #T_8997b_row10_col2, #T_8997b_row10_col7, #T_8997b_row10_col8 {\n",
       "  background-color: #034c78;\n",
       "  color: #f1f1f1;\n",
       "}\n",
       "#T_8997b_row1_col11, #T_8997b_row2_col11, #T_8997b_row3_col11, #T_8997b_row4_col11, #T_8997b_row5_col11, #T_8997b_row7_col11, #T_8997b_row8_col11, #T_8997b_row9_col11 {\n",
       "  background-color: #0872b1;\n",
       "  color: #f1f1f1;\n",
       "}\n",
       "#T_8997b_row2_col0, #T_8997b_row3_col0, #T_8997b_row4_col0, #T_8997b_row5_col0, #T_8997b_row6_col0, #T_8997b_row7_col0, #T_8997b_row8_col0, #T_8997b_row9_col0 {\n",
       "  background-color: #fef6fb;\n",
       "  color: #000000;\n",
       "}\n",
       "#T_8997b_row3_col10, #T_8997b_row4_col10, #T_8997b_row5_col10, #T_8997b_row9_col10, #T_8997b_row10_col3, #T_8997b_row10_col4, #T_8997b_row10_col5, #T_8997b_row10_col9 {\n",
       "  background-color: #034d79;\n",
       "  color: #f1f1f1;\n",
       "}\n",
       "#T_8997b_row6_col10, #T_8997b_row10_col6 {\n",
       "  background-color: #03466e;\n",
       "  color: #f1f1f1;\n",
       "}\n",
       "#T_8997b_row6_col11 {\n",
       "  background-color: #056dac;\n",
       "  color: #f1f1f1;\n",
       "}\n",
       "#T_8997b_row10_col0 {\n",
       "  background-color: #fdf5fa;\n",
       "  color: #000000;\n",
       "}\n",
       "#T_8997b_row10_col1 {\n",
       "  background-color: #034b76;\n",
       "  color: #f1f1f1;\n",
       "}\n",
       "#T_8997b_row10_col11 {\n",
       "  background-color: #045e93;\n",
       "  color: #f1f1f1;\n",
       "}\n",
       "#T_8997b_row11_col0 {\n",
       "  background-color: #f8f1f8;\n",
       "  color: #000000;\n",
       "}\n",
       "#T_8997b_row11_col1, #T_8997b_row11_col2, #T_8997b_row11_col3, #T_8997b_row11_col4, #T_8997b_row11_col5, #T_8997b_row11_col7, #T_8997b_row11_col8, #T_8997b_row11_col9 {\n",
       "  background-color: #056faf;\n",
       "  color: #f1f1f1;\n",
       "}\n",
       "#T_8997b_row11_col6 {\n",
       "  background-color: #056caa;\n",
       "  color: #f1f1f1;\n",
       "}\n",
       "#T_8997b_row11_col10 {\n",
       "  background-color: #045d92;\n",
       "  color: #f1f1f1;\n",
       "}\n",
       "</style>\n",
       "<table id=\"T_8997b\">\n",
       "  <thead>\n",
       "    <tr>\n",
       "      <th class=\"blank level0\" >&nbsp;</th>\n",
       "      <th id=\"T_8997b_level0_col0\" class=\"col_heading level0 col0\" >Date</th>\n",
       "      <th id=\"T_8997b_level0_col1\" class=\"col_heading level0 col1\" >Open</th>\n",
       "      <th id=\"T_8997b_level0_col2\" class=\"col_heading level0 col2\" >High</th>\n",
       "      <th id=\"T_8997b_level0_col3\" class=\"col_heading level0 col3\" >Low</th>\n",
       "      <th id=\"T_8997b_level0_col4\" class=\"col_heading level0 col4\" >Close</th>\n",
       "      <th id=\"T_8997b_level0_col5\" class=\"col_heading level0 col5\" >Adj Close</th>\n",
       "      <th id=\"T_8997b_level0_col6\" class=\"col_heading level0 col6\" >SMA_10</th>\n",
       "      <th id=\"T_8997b_level0_col7\" class=\"col_heading level0 col7\" >Average</th>\n",
       "      <th id=\"T_8997b_level0_col8\" class=\"col_heading level0 col8\" >Open_Close_Mean</th>\n",
       "      <th id=\"T_8997b_level0_col9\" class=\"col_heading level0 col9\" >High_Low_Mean</th>\n",
       "      <th id=\"T_8997b_level0_col10\" class=\"col_heading level0 col10\" >SMA_50</th>\n",
       "      <th id=\"T_8997b_level0_col11\" class=\"col_heading level0 col11\" >SMA_200</th>\n",
       "    </tr>\n",
       "  </thead>\n",
       "  <tbody>\n",
       "    <tr>\n",
       "      <th id=\"T_8997b_level0_row0\" class=\"row_heading level0 row0\" >Date</th>\n",
       "      <td id=\"T_8997b_row0_col0\" class=\"data row0 col0\" >1.000000</td>\n",
       "      <td id=\"T_8997b_row0_col1\" class=\"data row0 col1\" >0.757000</td>\n",
       "      <td id=\"T_8997b_row0_col2\" class=\"data row0 col2\" >0.758000</td>\n",
       "      <td id=\"T_8997b_row0_col3\" class=\"data row0 col3\" >0.758000</td>\n",
       "      <td id=\"T_8997b_row0_col4\" class=\"data row0 col4\" >0.758000</td>\n",
       "      <td id=\"T_8997b_row0_col5\" class=\"data row0 col5\" >0.758000</td>\n",
       "      <td id=\"T_8997b_row0_col6\" class=\"data row0 col6\" >0.758000</td>\n",
       "      <td id=\"T_8997b_row0_col7\" class=\"data row0 col7\" >0.758000</td>\n",
       "      <td id=\"T_8997b_row0_col8\" class=\"data row0 col8\" >0.758000</td>\n",
       "      <td id=\"T_8997b_row0_col9\" class=\"data row0 col9\" >0.758000</td>\n",
       "      <td id=\"T_8997b_row0_col10\" class=\"data row0 col10\" >0.761000</td>\n",
       "      <td id=\"T_8997b_row0_col11\" class=\"data row0 col11\" >0.768000</td>\n",
       "    </tr>\n",
       "    <tr>\n",
       "      <th id=\"T_8997b_level0_row1\" class=\"row_heading level0 row1\" >Open</th>\n",
       "      <td id=\"T_8997b_row1_col0\" class=\"data row1 col0\" >0.757000</td>\n",
       "      <td id=\"T_8997b_row1_col1\" class=\"data row1 col1\" >1.000000</td>\n",
       "      <td id=\"T_8997b_row1_col2\" class=\"data row1 col2\" >1.000000</td>\n",
       "      <td id=\"T_8997b_row1_col3\" class=\"data row1 col3\" >1.000000</td>\n",
       "      <td id=\"T_8997b_row1_col4\" class=\"data row1 col4\" >0.999000</td>\n",
       "      <td id=\"T_8997b_row1_col5\" class=\"data row1 col5\" >0.999000</td>\n",
       "      <td id=\"T_8997b_row1_col6\" class=\"data row1 col6\" >0.997000</td>\n",
       "      <td id=\"T_8997b_row1_col7\" class=\"data row1 col7\" >1.000000</td>\n",
       "      <td id=\"T_8997b_row1_col8\" class=\"data row1 col8\" >1.000000</td>\n",
       "      <td id=\"T_8997b_row1_col9\" class=\"data row1 col9\" >1.000000</td>\n",
       "      <td id=\"T_8997b_row1_col10\" class=\"data row1 col10\" >0.982000</td>\n",
       "      <td id=\"T_8997b_row1_col11\" class=\"data row1 col11\" >0.940000</td>\n",
       "    </tr>\n",
       "    <tr>\n",
       "      <th id=\"T_8997b_level0_row2\" class=\"row_heading level0 row2\" >High</th>\n",
       "      <td id=\"T_8997b_row2_col0\" class=\"data row2 col0\" >0.758000</td>\n",
       "      <td id=\"T_8997b_row2_col1\" class=\"data row2 col1\" >1.000000</td>\n",
       "      <td id=\"T_8997b_row2_col2\" class=\"data row2 col2\" >1.000000</td>\n",
       "      <td id=\"T_8997b_row2_col3\" class=\"data row2 col3\" >1.000000</td>\n",
       "      <td id=\"T_8997b_row2_col4\" class=\"data row2 col4\" >1.000000</td>\n",
       "      <td id=\"T_8997b_row2_col5\" class=\"data row2 col5\" >1.000000</td>\n",
       "      <td id=\"T_8997b_row2_col6\" class=\"data row2 col6\" >0.997000</td>\n",
       "      <td id=\"T_8997b_row2_col7\" class=\"data row2 col7\" >1.000000</td>\n",
       "      <td id=\"T_8997b_row2_col8\" class=\"data row2 col8\" >1.000000</td>\n",
       "      <td id=\"T_8997b_row2_col9\" class=\"data row2 col9\" >1.000000</td>\n",
       "      <td id=\"T_8997b_row2_col10\" class=\"data row2 col10\" >0.982000</td>\n",
       "      <td id=\"T_8997b_row2_col11\" class=\"data row2 col11\" >0.940000</td>\n",
       "    </tr>\n",
       "    <tr>\n",
       "      <th id=\"T_8997b_level0_row3\" class=\"row_heading level0 row3\" >Low</th>\n",
       "      <td id=\"T_8997b_row3_col0\" class=\"data row3 col0\" >0.758000</td>\n",
       "      <td id=\"T_8997b_row3_col1\" class=\"data row3 col1\" >1.000000</td>\n",
       "      <td id=\"T_8997b_row3_col2\" class=\"data row3 col2\" >1.000000</td>\n",
       "      <td id=\"T_8997b_row3_col3\" class=\"data row3 col3\" >1.000000</td>\n",
       "      <td id=\"T_8997b_row3_col4\" class=\"data row3 col4\" >1.000000</td>\n",
       "      <td id=\"T_8997b_row3_col5\" class=\"data row3 col5\" >1.000000</td>\n",
       "      <td id=\"T_8997b_row3_col6\" class=\"data row3 col6\" >0.997000</td>\n",
       "      <td id=\"T_8997b_row3_col7\" class=\"data row3 col7\" >1.000000</td>\n",
       "      <td id=\"T_8997b_row3_col8\" class=\"data row3 col8\" >1.000000</td>\n",
       "      <td id=\"T_8997b_row3_col9\" class=\"data row3 col9\" >1.000000</td>\n",
       "      <td id=\"T_8997b_row3_col10\" class=\"data row3 col10\" >0.981000</td>\n",
       "      <td id=\"T_8997b_row3_col11\" class=\"data row3 col11\" >0.940000</td>\n",
       "    </tr>\n",
       "    <tr>\n",
       "      <th id=\"T_8997b_level0_row4\" class=\"row_heading level0 row4\" >Close</th>\n",
       "      <td id=\"T_8997b_row4_col0\" class=\"data row4 col0\" >0.758000</td>\n",
       "      <td id=\"T_8997b_row4_col1\" class=\"data row4 col1\" >0.999000</td>\n",
       "      <td id=\"T_8997b_row4_col2\" class=\"data row4 col2\" >1.000000</td>\n",
       "      <td id=\"T_8997b_row4_col3\" class=\"data row4 col3\" >1.000000</td>\n",
       "      <td id=\"T_8997b_row4_col4\" class=\"data row4 col4\" >1.000000</td>\n",
       "      <td id=\"T_8997b_row4_col5\" class=\"data row4 col5\" >1.000000</td>\n",
       "      <td id=\"T_8997b_row4_col6\" class=\"data row4 col6\" >0.997000</td>\n",
       "      <td id=\"T_8997b_row4_col7\" class=\"data row4 col7\" >1.000000</td>\n",
       "      <td id=\"T_8997b_row4_col8\" class=\"data row4 col8\" >1.000000</td>\n",
       "      <td id=\"T_8997b_row4_col9\" class=\"data row4 col9\" >1.000000</td>\n",
       "      <td id=\"T_8997b_row4_col10\" class=\"data row4 col10\" >0.981000</td>\n",
       "      <td id=\"T_8997b_row4_col11\" class=\"data row4 col11\" >0.940000</td>\n",
       "    </tr>\n",
       "    <tr>\n",
       "      <th id=\"T_8997b_level0_row5\" class=\"row_heading level0 row5\" >Adj Close</th>\n",
       "      <td id=\"T_8997b_row5_col0\" class=\"data row5 col0\" >0.758000</td>\n",
       "      <td id=\"T_8997b_row5_col1\" class=\"data row5 col1\" >0.999000</td>\n",
       "      <td id=\"T_8997b_row5_col2\" class=\"data row5 col2\" >1.000000</td>\n",
       "      <td id=\"T_8997b_row5_col3\" class=\"data row5 col3\" >1.000000</td>\n",
       "      <td id=\"T_8997b_row5_col4\" class=\"data row5 col4\" >1.000000</td>\n",
       "      <td id=\"T_8997b_row5_col5\" class=\"data row5 col5\" >1.000000</td>\n",
       "      <td id=\"T_8997b_row5_col6\" class=\"data row5 col6\" >0.997000</td>\n",
       "      <td id=\"T_8997b_row5_col7\" class=\"data row5 col7\" >1.000000</td>\n",
       "      <td id=\"T_8997b_row5_col8\" class=\"data row5 col8\" >1.000000</td>\n",
       "      <td id=\"T_8997b_row5_col9\" class=\"data row5 col9\" >1.000000</td>\n",
       "      <td id=\"T_8997b_row5_col10\" class=\"data row5 col10\" >0.981000</td>\n",
       "      <td id=\"T_8997b_row5_col11\" class=\"data row5 col11\" >0.940000</td>\n",
       "    </tr>\n",
       "    <tr>\n",
       "      <th id=\"T_8997b_level0_row6\" class=\"row_heading level0 row6\" >SMA_10</th>\n",
       "      <td id=\"T_8997b_row6_col0\" class=\"data row6 col0\" >0.758000</td>\n",
       "      <td id=\"T_8997b_row6_col1\" class=\"data row6 col1\" >0.997000</td>\n",
       "      <td id=\"T_8997b_row6_col2\" class=\"data row6 col2\" >0.997000</td>\n",
       "      <td id=\"T_8997b_row6_col3\" class=\"data row6 col3\" >0.997000</td>\n",
       "      <td id=\"T_8997b_row6_col4\" class=\"data row6 col4\" >0.997000</td>\n",
       "      <td id=\"T_8997b_row6_col5\" class=\"data row6 col5\" >0.997000</td>\n",
       "      <td id=\"T_8997b_row6_col6\" class=\"data row6 col6\" >1.000000</td>\n",
       "      <td id=\"T_8997b_row6_col7\" class=\"data row6 col7\" >0.997000</td>\n",
       "      <td id=\"T_8997b_row6_col8\" class=\"data row6 col8\" >0.997000</td>\n",
       "      <td id=\"T_8997b_row6_col9\" class=\"data row6 col9\" >0.997000</td>\n",
       "      <td id=\"T_8997b_row6_col10\" class=\"data row6 col10\" >0.987000</td>\n",
       "      <td id=\"T_8997b_row6_col11\" class=\"data row6 col11\" >0.945000</td>\n",
       "    </tr>\n",
       "    <tr>\n",
       "      <th id=\"T_8997b_level0_row7\" class=\"row_heading level0 row7\" >Average</th>\n",
       "      <td id=\"T_8997b_row7_col0\" class=\"data row7 col0\" >0.758000</td>\n",
       "      <td id=\"T_8997b_row7_col1\" class=\"data row7 col1\" >1.000000</td>\n",
       "      <td id=\"T_8997b_row7_col2\" class=\"data row7 col2\" >1.000000</td>\n",
       "      <td id=\"T_8997b_row7_col3\" class=\"data row7 col3\" >1.000000</td>\n",
       "      <td id=\"T_8997b_row7_col4\" class=\"data row7 col4\" >1.000000</td>\n",
       "      <td id=\"T_8997b_row7_col5\" class=\"data row7 col5\" >1.000000</td>\n",
       "      <td id=\"T_8997b_row7_col6\" class=\"data row7 col6\" >0.997000</td>\n",
       "      <td id=\"T_8997b_row7_col7\" class=\"data row7 col7\" >1.000000</td>\n",
       "      <td id=\"T_8997b_row7_col8\" class=\"data row7 col8\" >1.000000</td>\n",
       "      <td id=\"T_8997b_row7_col9\" class=\"data row7 col9\" >1.000000</td>\n",
       "      <td id=\"T_8997b_row7_col10\" class=\"data row7 col10\" >0.982000</td>\n",
       "      <td id=\"T_8997b_row7_col11\" class=\"data row7 col11\" >0.940000</td>\n",
       "    </tr>\n",
       "    <tr>\n",
       "      <th id=\"T_8997b_level0_row8\" class=\"row_heading level0 row8\" >Open_Close_Mean</th>\n",
       "      <td id=\"T_8997b_row8_col0\" class=\"data row8 col0\" >0.758000</td>\n",
       "      <td id=\"T_8997b_row8_col1\" class=\"data row8 col1\" >1.000000</td>\n",
       "      <td id=\"T_8997b_row8_col2\" class=\"data row8 col2\" >1.000000</td>\n",
       "      <td id=\"T_8997b_row8_col3\" class=\"data row8 col3\" >1.000000</td>\n",
       "      <td id=\"T_8997b_row8_col4\" class=\"data row8 col4\" >1.000000</td>\n",
       "      <td id=\"T_8997b_row8_col5\" class=\"data row8 col5\" >1.000000</td>\n",
       "      <td id=\"T_8997b_row8_col6\" class=\"data row8 col6\" >0.997000</td>\n",
       "      <td id=\"T_8997b_row8_col7\" class=\"data row8 col7\" >1.000000</td>\n",
       "      <td id=\"T_8997b_row8_col8\" class=\"data row8 col8\" >1.000000</td>\n",
       "      <td id=\"T_8997b_row8_col9\" class=\"data row8 col9\" >1.000000</td>\n",
       "      <td id=\"T_8997b_row8_col10\" class=\"data row8 col10\" >0.982000</td>\n",
       "      <td id=\"T_8997b_row8_col11\" class=\"data row8 col11\" >0.940000</td>\n",
       "    </tr>\n",
       "    <tr>\n",
       "      <th id=\"T_8997b_level0_row9\" class=\"row_heading level0 row9\" >High_Low_Mean</th>\n",
       "      <td id=\"T_8997b_row9_col0\" class=\"data row9 col0\" >0.758000</td>\n",
       "      <td id=\"T_8997b_row9_col1\" class=\"data row9 col1\" >1.000000</td>\n",
       "      <td id=\"T_8997b_row9_col2\" class=\"data row9 col2\" >1.000000</td>\n",
       "      <td id=\"T_8997b_row9_col3\" class=\"data row9 col3\" >1.000000</td>\n",
       "      <td id=\"T_8997b_row9_col4\" class=\"data row9 col4\" >1.000000</td>\n",
       "      <td id=\"T_8997b_row9_col5\" class=\"data row9 col5\" >1.000000</td>\n",
       "      <td id=\"T_8997b_row9_col6\" class=\"data row9 col6\" >0.997000</td>\n",
       "      <td id=\"T_8997b_row9_col7\" class=\"data row9 col7\" >1.000000</td>\n",
       "      <td id=\"T_8997b_row9_col8\" class=\"data row9 col8\" >1.000000</td>\n",
       "      <td id=\"T_8997b_row9_col9\" class=\"data row9 col9\" >1.000000</td>\n",
       "      <td id=\"T_8997b_row9_col10\" class=\"data row9 col10\" >0.981000</td>\n",
       "      <td id=\"T_8997b_row9_col11\" class=\"data row9 col11\" >0.940000</td>\n",
       "    </tr>\n",
       "    <tr>\n",
       "      <th id=\"T_8997b_level0_row10\" class=\"row_heading level0 row10\" >SMA_50</th>\n",
       "      <td id=\"T_8997b_row10_col0\" class=\"data row10 col0\" >0.761000</td>\n",
       "      <td id=\"T_8997b_row10_col1\" class=\"data row10 col1\" >0.982000</td>\n",
       "      <td id=\"T_8997b_row10_col2\" class=\"data row10 col2\" >0.982000</td>\n",
       "      <td id=\"T_8997b_row10_col3\" class=\"data row10 col3\" >0.981000</td>\n",
       "      <td id=\"T_8997b_row10_col4\" class=\"data row10 col4\" >0.981000</td>\n",
       "      <td id=\"T_8997b_row10_col5\" class=\"data row10 col5\" >0.981000</td>\n",
       "      <td id=\"T_8997b_row10_col6\" class=\"data row10 col6\" >0.987000</td>\n",
       "      <td id=\"T_8997b_row10_col7\" class=\"data row10 col7\" >0.982000</td>\n",
       "      <td id=\"T_8997b_row10_col8\" class=\"data row10 col8\" >0.982000</td>\n",
       "      <td id=\"T_8997b_row10_col9\" class=\"data row10 col9\" >0.981000</td>\n",
       "      <td id=\"T_8997b_row10_col10\" class=\"data row10 col10\" >1.000000</td>\n",
       "      <td id=\"T_8997b_row10_col11\" class=\"data row10 col11\" >0.966000</td>\n",
       "    </tr>\n",
       "    <tr>\n",
       "      <th id=\"T_8997b_level0_row11\" class=\"row_heading level0 row11\" >SMA_200</th>\n",
       "      <td id=\"T_8997b_row11_col0\" class=\"data row11 col0\" >0.768000</td>\n",
       "      <td id=\"T_8997b_row11_col1\" class=\"data row11 col1\" >0.940000</td>\n",
       "      <td id=\"T_8997b_row11_col2\" class=\"data row11 col2\" >0.940000</td>\n",
       "      <td id=\"T_8997b_row11_col3\" class=\"data row11 col3\" >0.940000</td>\n",
       "      <td id=\"T_8997b_row11_col4\" class=\"data row11 col4\" >0.940000</td>\n",
       "      <td id=\"T_8997b_row11_col5\" class=\"data row11 col5\" >0.940000</td>\n",
       "      <td id=\"T_8997b_row11_col6\" class=\"data row11 col6\" >0.945000</td>\n",
       "      <td id=\"T_8997b_row11_col7\" class=\"data row11 col7\" >0.940000</td>\n",
       "      <td id=\"T_8997b_row11_col8\" class=\"data row11 col8\" >0.940000</td>\n",
       "      <td id=\"T_8997b_row11_col9\" class=\"data row11 col9\" >0.940000</td>\n",
       "      <td id=\"T_8997b_row11_col10\" class=\"data row11 col10\" >0.966000</td>\n",
       "      <td id=\"T_8997b_row11_col11\" class=\"data row11 col11\" >1.000000</td>\n",
       "    </tr>\n",
       "  </tbody>\n",
       "</table>\n"
      ],
      "text/plain": [
       "<pandas.io.formats.style.Styler at 0x1b337de2090>"
      ]
     },
     "execution_count": 18,
     "metadata": {},
     "output_type": "execute_result"
    }
   ],
   "source": [
    "# Tabla de correlación entre variables.\n",
    "df.corr()\n",
    "corr = round(df.corr(), 3)\n",
    "corr.style.background_gradient()"
   ]
  },
  {
   "cell_type": "markdown",
   "metadata": {},
   "source": [
    "REALIZAR UN GRÁFICO EN DONDE PUEDA USAR 'Date', 'Average' y 'SMA_10'"
   ]
  },
  {
   "cell_type": "code",
   "execution_count": 20,
   "metadata": {},
   "outputs": [
    {
     "data": {
      "text/plain": [
       "<Axes: xlabel='SMA_200', ylabel='Average'>"
      ]
     },
     "execution_count": 20,
     "metadata": {},
     "output_type": "execute_result"
    },
    {
     "data": {
      "image/png": "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",
      "text/plain": [
       "<Figure size 2000x500 with 4 Axes>"
      ]
     },
     "metadata": {},
     "output_type": "display_data"
    }
   ],
   "source": [
    "fig, (ax1, ax2, ax3, ax4) = plt.subplots(nrows=1, ncols=4, figsize=(20, 5))\n",
    "\n",
    "df.plot.scatter(x=\"Date\", y=\"Average\", ax=ax1)\n",
    "df.plot.scatter(x=\"SMA_10\", y=\"Average\", ax=ax2)\n",
    "df.plot.scatter(x=\"SMA_50\", y=\"Average\", ax=ax3)\n",
    "df.plot.scatter(x=\"SMA_200\", y=\"Average\", ax=ax4)"
   ]
  },
  {
   "cell_type": "markdown",
   "metadata": {},
   "source": [
    "Próximo objetivo: Definir un número que determine el crecimiento de la acción en los próximos 5 días, calculado mediante los datos de los últimos 30 días. La intención es establecer una relación  más directa entre el valor de la acción y el transcurso del tiempo."
=======
    "# Defino la red secuencial\n",
    "model = Sequential()\n",
    "model.add(LSTM(units=na, input_shape=dim_entry, activation=\"relu\"))\n",
    "model.add(Dense(units=dim_out))\n",
    "model.compile(optimizer='rmsprop', loss='mse')\n",
    "model.fit(x_train, y_train, epochs=50, batch_size=32)"
>>>>>>> fdf948c1c308e54bbd8089fa502c754679661ac0
   ]
  },
  {
   "cell_type": "code",
   "execution_count": null,
   "metadata": {},
   "outputs": [],
<<<<<<< HEAD
   "source": []
  },
  {
   "cell_type": "markdown",
   "metadata": {},
   "source": [
    "I'M GONNA GIVE UP"
=======
   "source": [
    "# Preparo los datos de prueba\n",
    "x_test = validate_set.values\n",
    "x_test = sc.transform(x_test)\n",
    "len(x_test)"
   ]
  },
  {
   "cell_type": "code",
   "execution_count": null,
   "metadata": {},
   "outputs": [],
   "source": [
    "X_test = []\n",
    "for i in range(len(x_test) - time_step):\n",
    "    sequence = x_test[i:i + time_step, 0]\n",
    "    X_test.append(sequence)\n",
    "\n",
    "validate_set = validate_set.iloc[:-60]\n",
    "\n",
    "print(len(validate_set))\n",
    "X_test = np.array(X_test)\n",
    "X_test = np.reshape(X_test, (X_test.shape[0], X_test.shape[1], 1))"
   ]
  },
  {
   "cell_type": "code",
   "execution_count": null,
   "metadata": {},
   "outputs": [],
   "source": [
    "# Realizo la predicción\n",
    "prediction = model.predict(X_test)\n",
    "prediction = sc.inverse_transform(prediction)"
   ]
  },
  {
   "cell_type": "code",
   "execution_count": null,
   "metadata": {},
   "outputs": [],
   "source": [
    "graph_prediction(validate_set.reset_index(), prediction)"
   ]
  },
  {
   "cell_type": "code",
   "execution_count": null,
   "metadata": {},
   "outputs": [],
   "source": [
    "# Mientras más cercano a 0 mejor\n",
    "mse = mean_squared_error(validate_set, prediction)\n",
    "print(mse)"
   ]
  },
  {
   "cell_type": "code",
   "execution_count": null,
   "metadata": {},
   "outputs": [],
   "source": [
    "# Mientras más cercano a 1 mejor\n",
    "from sklearn.metrics import r2_score\n",
    "\n",
    "r2 = r2_score(validate_set, prediction)\n",
    "r2"
   ]
  },
  {
   "cell_type": "code",
   "execution_count": null,
   "metadata": {},
   "outputs": [],
   "source": [
    "variance_real_data = np.var(validate_set)\n",
    "\n",
    "# Calcula el porcentaje de efectividad con MSE\n",
    "effectiveness_mse = 100 * (1 - mse / variance_real_data)\n",
    "\n",
    "# Calcula el porcentaje de efectividad con R^2\n",
    "effectiveness_r2 = r2 * 100\n",
    "\n",
    "print(f\"Porcentaje de efectividad (MSE): {effectiveness_mse[0]}%\")\n",
    "print(f\"Porcentaje de efectividad (R^2): {effectiveness_r2}%\")"
>>>>>>> fdf948c1c308e54bbd8089fa502c754679661ac0
   ]
  }
 ],
 "metadata": {
  "kernelspec": {
   "display_name": "Python 3.11.4 ('env': venv)",
   "language": "python",
   "name": "python3"
  },
  "language_info": {
   "codemirror_mode": {
    "name": "ipython",
    "version": 3
   },
   "file_extension": ".py",
   "mimetype": "text/x-python",
   "name": "python",
   "nbconvert_exporter": "python",
   "pygments_lexer": "ipython3",
   "version": "3.11.2"
  },
  "orig_nbformat": 4,
  "vscode": {
   "interpreter": {
    "hash": "0472aa9c384a9239f6715ddb2f043cd9922a4970077915a84953f1d795e50591"
   }
  }
 },
 "nbformat": 4,
 "nbformat_minor": 2
}
