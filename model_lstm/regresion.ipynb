{
 "cells": [
  {
   "cell_type": "code",
   "execution_count": null,
   "metadata": {},
   "outputs": [],
   "source": [
    "import yfinance as yf\n",
    "import pandas as pd\n",
    "import numpy as np\n",
    "import matplotlib.pyplot as plt\n",
    "import seaborn as sns"
   ]
  },
  {
   "cell_type": "code",
   "execution_count": null,
   "metadata": {},
   "outputs": [],
   "source": [
    "ticker = yf.Ticker(\"AAPL\")\n",
    "info = ticker.info\n",
    " \n",
    "data = yf.download(\"GOOGL\", start='2020-10-01', end='2023-10-01')\n",
    "df = pd.DataFrame(data)\n",
    "df['SMA_10'] = df['Close'].rolling(window=10).mean()\n",
    "df.dropna(subset=['SMA_10'], inplace=True)\n",
    "df.reset_index(inplace=True)"
   ]
  },
  {
   "cell_type": "code",
   "execution_count": null,
   "metadata": {},
   "outputs": [],
   "source": [
    "# Defino dos decimales para los datos flotantes\n",
    "pd.options.display.float_format = '{:.2f}'.format\n",
    "df.head(15)"
   ]
  },
  {
   "cell_type": "code",
   "execution_count": null,
   "metadata": {},
   "outputs": [],
   "source": [
    "df.corr()"
   ]
  },
  {
   "cell_type": "code",
   "execution_count": null,
   "metadata": {},
   "outputs": [],
   "source": [
    "# Definimos las variables de entrada y salida del modelo (Utilizaremos las fechas para ordenamiento)\n",
    "data_in = df[['Date', 'SMA_10']]\n",
    "data_out = df[['Date', 'Close']]"
   ]
  },
  {
   "cell_type": "code",
   "execution_count": null,
   "metadata": {},
   "outputs": [],
   "source": [
    "from sklearn.model_selection import train_test_split\n",
    "# Realizamos el split de X e Y en los sets de entrenamiento (train) y test\n",
    "X_train, X_test, y_train, y_test = train_test_split(data_in, data_out, test_size=0.20, random_state=1992)\n",
    "\n"
   ]
  },
  {
   "cell_type": "code",
   "execution_count": null,
   "metadata": {},
   "outputs": [],
   "source": [
    "print(f\"El DateSet de entrenamiento cuenta con {len(X_train)} observaciones\")\n",
    "print(f\"El DateSet de evaluación cuenta con {len(X_test)} observaciones\")"
   ]
  },
  {
   "cell_type": "code",
   "execution_count": null,
   "metadata": {},
   "outputs": [],
   "source": [
    "# Ordenamos los DataSets\n",
    "X_train.sort_values(by='Date', inplace=True)\n",
    "X_test.sort_values(by='Date', inplace=True)\n",
    "y_train.sort_values(by='Date', inplace=True)\n",
    "y_test.sort_values(by='Date', inplace=True)"
   ]
  },
  {
   "cell_type": "code",
   "execution_count": null,
   "metadata": {},
   "outputs": [],
   "source": [
    "# Eliminamos las columnas Date\n",
    "date_prediction = y_test['Date']\n",
    "del(X_train['Date'])\n",
    "del(X_test['Date'])\n",
    "del(y_train['Date'])\n",
    "del(y_test['Date'])"
   ]
  },
  {
   "cell_type": "code",
   "execution_count": null,
   "metadata": {},
   "outputs": [],
   "source": [
    "from sklearn.linear_model import LinearRegression"
   ]
  },
  {
   "cell_type": "code",
   "execution_count": null,
   "metadata": {},
   "outputs": [],
   "source": [
    "model = LinearRegression(fit_intercept=True)\n",
    "model.fit(X_train, y_train)"
   ]
  },
  {
   "cell_type": "code",
   "execution_count": null,
   "metadata": {},
   "outputs": [],
   "source": [
    "model.coef_"
   ]
  },
  {
   "cell_type": "code",
   "execution_count": null,
   "metadata": {},
   "outputs": [],
   "source": [
    "model.intercept_"
   ]
  },
  {
   "cell_type": "code",
   "execution_count": null,
   "metadata": {},
   "outputs": [],
   "source": [
    "from sklearn.metrics import mean_squared_error, r2_score\n",
    "y_pred = model.predict(X_test)\n",
    "\n",
    "mse = mean_squared_error(y_test, y_pred)\n",
    "\n",
    "r2 = r2_score(y_test, y_pred)\n",
    "\n",
    "print(f'MSE: {mse}')\n",
    "print(f'R2: {r2}')"
   ]
  },
  {
   "cell_type": "code",
   "execution_count": null,
   "metadata": {},
   "outputs": [],
   "source": [
    "y_test['Date'] = date_prediction\n",
    "y_pred_df = pd.DataFrame(y_pred, columns=['Prediction'])"
   ]
  },
  {
   "cell_type": "code",
   "execution_count": null,
   "metadata": {},
   "outputs": [],
   "source": [
    "date_prediction_index = pd.DataFrame(y_test['Date'])\n",
    "date_prediction_index.reset_index(inplace=True)"
   ]
  },
  {
   "cell_type": "code",
   "execution_count": null,
   "metadata": {},
   "outputs": [],
   "source": [
    "y_pred_df['Date'] = date_prediction_index['Date']\n",
    "print(y_pred_df)\n",
    "print(y_test)"
   ]
  },
  {
   "cell_type": "code",
   "execution_count": null,
   "metadata": {},
   "outputs": [],
   "source": [
    "plt.figure(figsize=(12,6))\n",
    "plt.plot(y_test['Date'], y_test['Close'], label='Valores Reales', color='blue')\n",
    "plt.plot(y_pred_df['Date'], y_pred_df['Prediction'], label='Predicciones', color='red')\n",
    "plt.legend()\n",
    "plt.title('Comparación de Valores Reales y Predicciones')\n",
    "plt.show()"
   ]
  },
  {
   "cell_type": "code",
   "execution_count": null,
   "metadata": {},
   "outputs": [],
   "source": [
    "len(y_pred)"
   ]
  }
 ],
 "metadata": {
  "kernelspec": {
   "display_name": "Python 3.11.4 ('env': venv)",
   "language": "python",
   "name": "python3"
  },
  "language_info": {
   "codemirror_mode": {
    "name": "ipython",
    "version": 3
   },
   "file_extension": ".py",
   "mimetype": "text/x-python",
   "name": "python",
   "nbconvert_exporter": "python",
   "pygments_lexer": "ipython3",
   "version": "3.11.4"
  },
  "orig_nbformat": 4,
  "vscode": {
   "interpreter": {
    "hash": "0472aa9c384a9239f6715ddb2f043cd9922a4970077915a84953f1d795e50591"
   }
  }
 },
 "nbformat": 4,
 "nbformat_minor": 2
}
