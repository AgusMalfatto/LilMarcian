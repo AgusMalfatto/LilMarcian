{
 "cells": [
  {
   "cell_type": "code",
   "execution_count": null,
   "metadata": {},
   "outputs": [],
   "source": [
    "import yfinance as yf\n",
    "import pandas as pd\n",
    "import numpy as np\n",
    "import matplotlib.pyplot as plt\n",
    "import seaborn as sns"
   ]
  },
  {
   "cell_type": "code",
   "execution_count": null,
   "metadata": {},
   "outputs": [],
   "source": [
    "# Consulto los datos de la acción\n",
    "data = yf.download(\"GOOGL\", start='2023-01-01')\n",
    "df = pd.DataFrame(data)\n",
    "df.reset_index(inplace=True)"
   ]
  },
  {
   "cell_type": "code",
   "execution_count": null,
   "metadata": {},
   "outputs": [],
   "source": [
    "# Defino dos decimales para los datos flotantes\n",
    "pd.options.display.float_format = '{:.2f}'.format"
   ]
  },
  {
   "cell_type": "code",
   "execution_count": null,
   "metadata": {},
   "outputs": [],
   "source": [
    "# Extraigo los datos de cierre de la acciones para los datos de entrada (data_in) y salida (data_out).\n",
    "data_in = df[['Close']]\n",
    "data_out = df[['Close']]\n",
    "\n",
    "# Los datos de entrada serán los cierres de la acciones desde el primer dato hasta el anteúltimo.\n",
    "data_in_subset = data_in.iloc[:len(data_in)-1]\n",
    "# Los datos de salida serán los cierres de las acciones desde el segundo hasta el último.\n",
    "data_out_subset = data_out.iloc[1:]\n",
    "\n",
    "# Con esto logro que el primer dato (data_in[0]) sea la entrada del segundo dato (data_out[1])\n",
    "\n",
    "print(data_in)\n",
    "print(data_out)\n",
    "print(data_in_subset)\n",
    "print(data_out_subset)"
   ]
  },
  {
   "cell_type": "code",
   "execution_count": null,
   "metadata": {},
   "outputs": [],
   "source": [
    "from sklearn.model_selection import train_test_split\n",
    "# Realizamos el split de X e Y en los sets de entrenamiento (train) y test\n",
    "X_train, X_test, y_train, y_test = train_test_split(data_in_subset, data_out_subset, test_size=0.20, random_state=1992)"
   ]
  },
  {
   "cell_type": "code",
   "execution_count": null,
   "metadata": {},
   "outputs": [],
   "source": [
    "from sklearn.linear_model import LinearRegression"
   ]
  },
  {
   "cell_type": "code",
   "execution_count": null,
   "metadata": {},
   "outputs": [],
   "source": [
    "# Creación del modelo de regreción lineal\n",
    "model = LinearRegression(fit_intercept=True)\n",
    "# Entrenamientod el modelo\n",
    "model.fit(X_train, y_train)"
   ]
  },
  {
   "cell_type": "code",
   "execution_count": null,
   "metadata": {},
   "outputs": [],
   "source": [
    "# Coeficiente del modelo (Sería el parámetro 'a' de la ecuación 'y = ax + b')\n",
    "model.coef_"
   ]
  },
  {
   "cell_type": "code",
   "execution_count": null,
   "metadata": {},
   "outputs": [],
   "source": [
    "# Intercepto del modelo (Sería el parámetro 'b' de la ecuación 'y = ax + b')\n",
    "model.intercept_"
   ]
  },
  {
   "cell_type": "code",
   "execution_count": null,
   "metadata": {},
   "outputs": [],
   "source": [
    "from sklearn.metrics import mean_squared_error, r2_score\n",
    "# Realizamos la predicción con los X_test\n",
    "y_pred = model.predict(X_test)\n",
    "\n",
    "# Calculamos el Error Cuadrático Medio\n",
    "mse = mean_squared_error(y_test, y_pred)\n",
    "\n",
    "# Calculamos el Coeficiente de Determinación\n",
    "r2 = r2_score(y_test, y_pred)\n",
    "\n",
    "print(f'MSE: {mse}')\n",
    "print(f'R2: {r2}')"
   ]
  },
  {
   "cell_type": "code",
   "execution_count": null,
   "metadata": {},
   "outputs": [],
   "source": [
    "df_subset = df.iloc[-len(y_test):]\n",
    "\n",
    "# Graficar Valores Reales y Predicciones\n",
    "plt.figure(figsize=(12,6))\n",
    "plt.plot(df_subset['Date'], y_test, label='Valores Reales', color='blue')\n",
    "plt.plot(df_subset['Date'], y_pred, label='Predicciones', color='red')\n",
    "plt.legend()\n",
    "plt.title('Comparación de Valores Reales y Predicciones')\n",
    "plt.show()"
   ]
  },
  {
   "cell_type": "code",
   "execution_count": null,
   "metadata": {},
   "outputs": [],
   "source": [
    "# Crear un DataFrame con los últimos 40 valores reales\n",
    "df_test = df.iloc[-40:][['Date', 'Close']].copy()\n",
    "\n",
    "# Crear un DataFrame para las predicciones\n",
    "prediction = pd.DataFrame(y_pred, columns=['Predictions'])\n",
    "\n",
    "# Asignar las predicciones al DataFrame df_test\n",
    "df_test['Prediction'] = prediction['Predictions'].values\n",
    "\n",
    "# Reiniciar el índice si es necesario\n",
    "df_test.reset_index(drop=True, inplace=True)\n",
    "\n",
    "# Calculo la diferencia entre los datos de cierre y predicciones\n",
    "df_test['Diference'] = df_test['Close'] - df_test['Prediction']\n",
    "\n",
    "# Mostrar el DataFrame\n",
    "print(df_test)\n",
    "print(f\"Media de diferencia entre los datos de cierre y predicciones: {df_test['Diference'].mean()}\")"
   ]
  }
 ],
 "metadata": {
  "kernelspec": {
   "display_name": "Python 3.11.4 ('env': venv)",
   "language": "python",
   "name": "python3"
  },
  "language_info": {
   "codemirror_mode": {
    "name": "ipython",
    "version": 3
   },
   "file_extension": ".py",
   "mimetype": "text/x-python",
   "name": "python",
   "nbconvert_exporter": "python",
   "pygments_lexer": "ipython3",
   "version": "3.11.4"
  },
  "orig_nbformat": 4,
  "vscode": {
   "interpreter": {
    "hash": "0472aa9c384a9239f6715ddb2f043cd9922a4970077915a84953f1d795e50591"
   }
  }
 },
 "nbformat": 4,
 "nbformat_minor": 2
}
