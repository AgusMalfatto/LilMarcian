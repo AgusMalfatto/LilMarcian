{
 "cells": [
  {
   "cell_type": "code",
   "execution_count": null,
   "metadata": {},
   "outputs": [],
   "source": [
    "import yfinance as yf\n",
    "import pandas as pd\n",
    "import numpy as np\n",
    "import matplotlib.pyplot as plt\n",
    "import seaborn as sns"
   ]
  },
  {
   "cell_type": "code",
   "execution_count": null,
   "metadata": {},
   "outputs": [],
   "source": [
    "ticker = yf.Ticker(\"AAPL\")\n",
    "info = ticker.info\n",
    " \n",
    "data = yf.download(\"IBM\", start='2020-10-01', end='2023-10-01')\n",
    "df = pd.DataFrame(data)\n",
    "df['SMA_10'] = df['Close'].rolling(window=10).mean()\n",
    "df.dropna(subset=['SMA_10'], inplace=True)\n",
    "df.reset_index(inplace=True)"
   ]
  },
  {
   "cell_type": "code",
   "execution_count": null,
   "metadata": {},
   "outputs": [],
   "source": [
    "# Defino dos decimales para los datos flotantes\n",
    "pd.options.display.float_format = '{:.2f}'.format\n",
    "df.head(15)"
   ]
  },
  {
   "cell_type": "code",
   "execution_count": null,
   "metadata": {},
   "outputs": [],
   "source": [
    "df.corr()"
   ]
  },
  {
   "cell_type": "code",
   "execution_count": null,
   "metadata": {},
   "outputs": [],
   "source": [
    "# Calculo el Rango Medio Verdadero. Índice para saber la volatilidad de una acción\n",
    "periodo_atr = 14\n",
    "df['Rango'] = df['High'] - df['Low']\n",
    "df['TR'] = df[['High', 'Close']].max(axis=1) - df[['Low', 'Close']].min(axis=1)\n",
    "df['ATR'] = df['TR'].rolling(window=periodo_atr).mean()\n",
    "\n",
    "df.iloc[30]"
   ]
  },
  {
   "cell_type": "code",
   "execution_count": null,
   "metadata": {},
   "outputs": [],
   "source": [
    "# Preparo los datos de la siguiente manera: 30 días consecutivos serán de entrada (data_in), y el día posterior será la salida (data_out).\n",
    "time_step = 30\n",
    "data_in = []\n",
    "data_out = []\n",
    "\n",
    "for i in range(time_step, len(df)-time_step):\n",
    "    data_in.append(df[i-time_step: i])\n",
    "    data_out.append(df.iloc[i])"
   ]
  },
  {
   "cell_type": "code",
   "execution_count": null,
   "metadata": {},
   "outputs": [],
   "source": [
    "from sklearn.model_selection import train_test_split\n",
    "from sklearn.linear_model import LinearRegression\n",
    "from sklearn.metrics import mean_squared_error, r2_score"
   ]
  },
  {
   "cell_type": "code",
   "execution_count": null,
   "metadata": {},
   "outputs": [],
   "source": [
    "# Paso 1: Preparar los datos\n",
    "data_in_df = pd.concat(data_in, axis=0, ignore_index=True)\n",
    "data_out_df = pd.DataFrame(data_out)\n",
    "\n",
    "print(data_in_df.shape)\n",
    "print(data_out_df.shape)"
   ]
  },
  {
   "cell_type": "code",
   "execution_count": null,
   "metadata": {},
   "outputs": [],
   "source": [
    "# Paso 2: Dividir los datos en conjuntos de entrenamiento y prueba\n",
    "X_train, X_test, y_train, y_test = train_test_split(data_in, data_out, test_size=0.2, random_state=1992)\n",
    "\n",
    "# Paso 3: Crear y entrenar el modelo\n",
    "model = LinearRegression()"
   ]
  },
  {
   "cell_type": "code",
   "execution_count": null,
   "metadata": {},
   "outputs": [],
   "source": [
    "model.fit(X_train, y_train)"
   ]
  },
  {
   "cell_type": "code",
   "execution_count": null,
   "metadata": {},
   "outputs": [],
   "source": [
    "y_pred = model.predict(X_test)\n",
    "\n",
    "mse = mean_squared_error(y_test, y_pred)\n",
    "\n",
    "r2 = r2_score(y_test, y_pred)\n",
    "\n",
    "print(f'MSE: {mse}')\n",
    "print(f'R2: {r2}')"
   ]
  }
 ],
 "metadata": {
  "kernelspec": {
   "display_name": "Python 3.11.4 ('env': venv)",
   "language": "python",
   "name": "python3"
  },
  "language_info": {
   "codemirror_mode": {
    "name": "ipython",
    "version": 3
   },
   "file_extension": ".py",
   "mimetype": "text/x-python",
   "name": "python",
   "nbconvert_exporter": "python",
   "pygments_lexer": "ipython3",
   "version": "3.11.4"
  },
  "orig_nbformat": 4,
  "vscode": {
   "interpreter": {
    "hash": "0472aa9c384a9239f6715ddb2f043cd9922a4970077915a84953f1d795e50591"
   }
  }
 },
 "nbformat": 4,
 "nbformat_minor": 2
}
