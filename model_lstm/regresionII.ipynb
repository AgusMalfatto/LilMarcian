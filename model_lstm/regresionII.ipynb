{
 "cells": [
  {
   "cell_type": "code",
   "execution_count": 1,
   "metadata": {},
   "outputs": [],
   "source": [
    "import yfinance as yf\n",
    "import pandas as pd\n",
    "import numpy as np\n",
    "import matplotlib.pyplot as plt\n",
    "import seaborn as sns"
   ]
  },
  {
   "cell_type": "code",
   "execution_count": 2,
   "metadata": {},
   "outputs": [
    {
     "name": "stdout",
     "output_type": "stream",
     "text": [
      "[*********************100%%**********************]  1 of 1 completed\n"
     ]
    }
   ],
   "source": [
    "# Consulto los datos de la acción\n",
    "data = yf.download(\"GOOGL\", start='2023-09-01')\n",
    "df = pd.DataFrame(data)\n",
    "df.reset_index(inplace=True)"
   ]
  },
  {
   "cell_type": "code",
   "execution_count": 3,
   "metadata": {},
   "outputs": [],
   "source": [
    "# Defino dos decimales para los datos flotantes\n",
    "pd.options.display.float_format = '{:.2f}'.format"
   ]
  },
  {
   "cell_type": "code",
   "execution_count": 4,
   "metadata": {},
   "outputs": [
    {
     "name": "stdout",
     "output_type": "stream",
     "text": [
      "    Close\n",
      "0  135.66\n",
      "1  135.77\n",
      "2  134.46\n",
      "3  135.26\n",
      "4  136.38\n",
      "5  136.92\n",
      "6  135.34\n",
      "7  136.71\n",
      "8  138.10\n",
      "9  137.40\n",
      "10 138.21\n",
      "11 138.04\n",
      "12 133.74\n",
      "13 130.44\n",
      "14 130.25\n",
      "15 131.11\n",
      "16 128.57\n",
      "17 130.54\n",
      "18 132.31\n",
      "19 130.86\n",
      "20 134.17\n",
      "21 132.43\n",
      "22 135.24\n",
      "23 135.07\n",
      "24 137.58\n",
      "25 138.42\n",
      "26 138.06\n",
      "27 140.55\n",
      "28 138.97\n",
      "29 137.36\n",
      "30 139.10\n",
      "31 139.72\n",
      "32 137.96\n",
      "33 137.75\n",
      "34 135.60\n",
      "35 136.50\n",
      "36 138.81\n",
      "37 125.61\n",
      "38 122.28\n",
      "39 122.17\n",
      "40 124.46\n",
      "41 124.08\n",
      "42 126.45\n",
      "43 127.49\n",
      "44 129.10\n",
      "    Close\n",
      "0  135.66\n",
      "1  135.77\n",
      "2  134.46\n",
      "3  135.26\n",
      "4  136.38\n",
      "5  136.92\n",
      "6  135.34\n",
      "7  136.71\n",
      "8  138.10\n",
      "9  137.40\n",
      "10 138.21\n",
      "11 138.04\n",
      "12 133.74\n",
      "13 130.44\n",
      "14 130.25\n",
      "15 131.11\n",
      "16 128.57\n",
      "17 130.54\n",
      "18 132.31\n",
      "19 130.86\n",
      "20 134.17\n",
      "21 132.43\n",
      "22 135.24\n",
      "23 135.07\n",
      "24 137.58\n",
      "25 138.42\n",
      "26 138.06\n",
      "27 140.55\n",
      "28 138.97\n",
      "29 137.36\n",
      "30 139.10\n",
      "31 139.72\n",
      "32 137.96\n",
      "33 137.75\n",
      "34 135.60\n",
      "35 136.50\n",
      "36 138.81\n",
      "37 125.61\n",
      "38 122.28\n",
      "39 122.17\n",
      "40 124.46\n",
      "41 124.08\n",
      "42 126.45\n",
      "43 127.49\n",
      "44 129.10\n",
      "    Close\n",
      "0  135.66\n",
      "1  135.77\n",
      "2  134.46\n",
      "3  135.26\n",
      "4  136.38\n",
      "5  136.92\n",
      "6  135.34\n",
      "7  136.71\n",
      "8  138.10\n",
      "9  137.40\n",
      "10 138.21\n",
      "11 138.04\n",
      "12 133.74\n",
      "13 130.44\n",
      "14 130.25\n",
      "15 131.11\n",
      "16 128.57\n",
      "17 130.54\n",
      "18 132.31\n",
      "19 130.86\n",
      "20 134.17\n",
      "21 132.43\n",
      "22 135.24\n",
      "23 135.07\n",
      "24 137.58\n",
      "25 138.42\n",
      "26 138.06\n",
      "27 140.55\n",
      "28 138.97\n",
      "29 137.36\n",
      "30 139.10\n",
      "31 139.72\n",
      "32 137.96\n",
      "33 137.75\n",
      "34 135.60\n",
      "35 136.50\n",
      "36 138.81\n",
      "37 125.61\n",
      "38 122.28\n",
      "39 122.17\n",
      "40 124.46\n",
      "41 124.08\n",
      "42 126.45\n",
      "43 127.49\n",
      "    Close\n",
      "1  135.77\n",
      "2  134.46\n",
      "3  135.26\n",
      "4  136.38\n",
      "5  136.92\n",
      "6  135.34\n",
      "7  136.71\n",
      "8  138.10\n",
      "9  137.40\n",
      "10 138.21\n",
      "11 138.04\n",
      "12 133.74\n",
      "13 130.44\n",
      "14 130.25\n",
      "15 131.11\n",
      "16 128.57\n",
      "17 130.54\n",
      "18 132.31\n",
      "19 130.86\n",
      "20 134.17\n",
      "21 132.43\n",
      "22 135.24\n",
      "23 135.07\n",
      "24 137.58\n",
      "25 138.42\n",
      "26 138.06\n",
      "27 140.55\n",
      "28 138.97\n",
      "29 137.36\n",
      "30 139.10\n",
      "31 139.72\n",
      "32 137.96\n",
      "33 137.75\n",
      "34 135.60\n",
      "35 136.50\n",
      "36 138.81\n",
      "37 125.61\n",
      "38 122.28\n",
      "39 122.17\n",
      "40 124.46\n",
      "41 124.08\n",
      "42 126.45\n",
      "43 127.49\n",
      "44 129.10\n"
     ]
    }
   ],
   "source": [
    "# Extraigo los datos de cierre de la acciones para los datos de entrada (data_in) y salida (data_out).\n",
    "data_in = df[['Close']]\n",
    "data_out = df[['Close']]\n",
    "\n",
    "# Los datos de entrada serán los cierres de la acciones desde el primer dato hasta el anteúltimo.\n",
    "data_in_subset = data_in.iloc[:len(data_in)-1]\n",
    "# Los datos de salida serán los cierres de las acciones desde el segundo hasta el último.\n",
    "data_out_subset = data_out.iloc[1:]\n",
    "\n",
    "# Con esto logro que el primer dato (data_in[0]) sea la entrada del segundo dato (data_out[1])\n",
    "\n",
    "print(data_in)\n",
    "print(data_out)\n",
    "print(data_in_subset)\n",
    "print(data_out_subset)"
   ]
  },
  {
   "cell_type": "code",
   "execution_count": 5,
   "metadata": {},
   "outputs": [],
   "source": [
    "from sklearn.model_selection import train_test_split\n",
    "# Realizamos el split de X e Y en los sets de entrenamiento (train) y test\n",
    "X_train, X_test, y_train, y_test = train_test_split(data_in_subset, data_out_subset, test_size=0.20, random_state=1992)"
   ]
  },
  {
   "cell_type": "code",
   "execution_count": 6,
   "metadata": {},
   "outputs": [],
   "source": [
    "from sklearn.linear_model import LinearRegression"
   ]
  },
  {
   "cell_type": "code",
   "execution_count": 7,
   "metadata": {},
   "outputs": [
    {
     "data": {
      "text/html": [
       "<style>#sk-container-id-1 {color: black;}#sk-container-id-1 pre{padding: 0;}#sk-container-id-1 div.sk-toggleable {background-color: white;}#sk-container-id-1 label.sk-toggleable__label {cursor: pointer;display: block;width: 100%;margin-bottom: 0;padding: 0.3em;box-sizing: border-box;text-align: center;}#sk-container-id-1 label.sk-toggleable__label-arrow:before {content: \"▸\";float: left;margin-right: 0.25em;color: #696969;}#sk-container-id-1 label.sk-toggleable__label-arrow:hover:before {color: black;}#sk-container-id-1 div.sk-estimator:hover label.sk-toggleable__label-arrow:before {color: black;}#sk-container-id-1 div.sk-toggleable__content {max-height: 0;max-width: 0;overflow: hidden;text-align: left;background-color: #f0f8ff;}#sk-container-id-1 div.sk-toggleable__content pre {margin: 0.2em;color: black;border-radius: 0.25em;background-color: #f0f8ff;}#sk-container-id-1 input.sk-toggleable__control:checked~div.sk-toggleable__content {max-height: 200px;max-width: 100%;overflow: auto;}#sk-container-id-1 input.sk-toggleable__control:checked~label.sk-toggleable__label-arrow:before {content: \"▾\";}#sk-container-id-1 div.sk-estimator input.sk-toggleable__control:checked~label.sk-toggleable__label {background-color: #d4ebff;}#sk-container-id-1 div.sk-label input.sk-toggleable__control:checked~label.sk-toggleable__label {background-color: #d4ebff;}#sk-container-id-1 input.sk-hidden--visually {border: 0;clip: rect(1px 1px 1px 1px);clip: rect(1px, 1px, 1px, 1px);height: 1px;margin: -1px;overflow: hidden;padding: 0;position: absolute;width: 1px;}#sk-container-id-1 div.sk-estimator {font-family: monospace;background-color: #f0f8ff;border: 1px dotted black;border-radius: 0.25em;box-sizing: border-box;margin-bottom: 0.5em;}#sk-container-id-1 div.sk-estimator:hover {background-color: #d4ebff;}#sk-container-id-1 div.sk-parallel-item::after {content: \"\";width: 100%;border-bottom: 1px solid gray;flex-grow: 1;}#sk-container-id-1 div.sk-label:hover label.sk-toggleable__label {background-color: #d4ebff;}#sk-container-id-1 div.sk-serial::before {content: \"\";position: absolute;border-left: 1px solid gray;box-sizing: border-box;top: 0;bottom: 0;left: 50%;z-index: 0;}#sk-container-id-1 div.sk-serial {display: flex;flex-direction: column;align-items: center;background-color: white;padding-right: 0.2em;padding-left: 0.2em;position: relative;}#sk-container-id-1 div.sk-item {position: relative;z-index: 1;}#sk-container-id-1 div.sk-parallel {display: flex;align-items: stretch;justify-content: center;background-color: white;position: relative;}#sk-container-id-1 div.sk-item::before, #sk-container-id-1 div.sk-parallel-item::before {content: \"\";position: absolute;border-left: 1px solid gray;box-sizing: border-box;top: 0;bottom: 0;left: 50%;z-index: -1;}#sk-container-id-1 div.sk-parallel-item {display: flex;flex-direction: column;z-index: 1;position: relative;background-color: white;}#sk-container-id-1 div.sk-parallel-item:first-child::after {align-self: flex-end;width: 50%;}#sk-container-id-1 div.sk-parallel-item:last-child::after {align-self: flex-start;width: 50%;}#sk-container-id-1 div.sk-parallel-item:only-child::after {width: 0;}#sk-container-id-1 div.sk-dashed-wrapped {border: 1px dashed gray;margin: 0 0.4em 0.5em 0.4em;box-sizing: border-box;padding-bottom: 0.4em;background-color: white;}#sk-container-id-1 div.sk-label label {font-family: monospace;font-weight: bold;display: inline-block;line-height: 1.2em;}#sk-container-id-1 div.sk-label-container {text-align: center;}#sk-container-id-1 div.sk-container {/* jupyter's `normalize.less` sets `[hidden] { display: none; }` but bootstrap.min.css set `[hidden] { display: none !important; }` so we also need the `!important` here to be able to override the default hidden behavior on the sphinx rendered scikit-learn.org. See: https://github.com/scikit-learn/scikit-learn/issues/21755 */display: inline-block !important;position: relative;}#sk-container-id-1 div.sk-text-repr-fallback {display: none;}</style><div id=\"sk-container-id-1\" class=\"sk-top-container\"><div class=\"sk-text-repr-fallback\"><pre>LinearRegression()</pre><b>In a Jupyter environment, please rerun this cell to show the HTML representation or trust the notebook. <br />On GitHub, the HTML representation is unable to render, please try loading this page with nbviewer.org.</b></div><div class=\"sk-container\" hidden><div class=\"sk-item\"><div class=\"sk-estimator sk-toggleable\"><input class=\"sk-toggleable__control sk-hidden--visually\" id=\"sk-estimator-id-1\" type=\"checkbox\" checked><label for=\"sk-estimator-id-1\" class=\"sk-toggleable__label sk-toggleable__label-arrow\">LinearRegression</label><div class=\"sk-toggleable__content\"><pre>LinearRegression()</pre></div></div></div></div></div>"
      ],
      "text/plain": [
       "LinearRegression()"
      ]
     },
     "execution_count": 7,
     "metadata": {},
     "output_type": "execute_result"
    }
   ],
   "source": [
    "# Creación del modelo de regreción lineal\n",
    "model = LinearRegression(fit_intercept=True)\n",
    "# Entrenamientod el modelo\n",
    "model.fit(X_train, y_train)"
   ]
  },
  {
   "cell_type": "code",
   "execution_count": 8,
   "metadata": {},
   "outputs": [
    {
     "data": {
      "text/plain": [
       "array([[0.86041823]])"
      ]
     },
     "execution_count": 8,
     "metadata": {},
     "output_type": "execute_result"
    }
   ],
   "source": [
    "# Coeficiente del modelo (Sería el parámetro 'a' de la ecuación 'y = ax + b')\n",
    "model.coef_"
   ]
  },
  {
   "cell_type": "code",
   "execution_count": 9,
   "metadata": {},
   "outputs": [
    {
     "data": {
      "text/plain": [
       "array([18.41651261])"
      ]
     },
     "execution_count": 9,
     "metadata": {},
     "output_type": "execute_result"
    }
   ],
   "source": [
    "# Intercepto del modelo (Sería el parámetro 'b' de la ecuación 'y = ax + b')\n",
    "model.intercept_"
   ]
  },
  {
   "cell_type": "code",
   "execution_count": 10,
   "metadata": {},
   "outputs": [
    {
     "data": {
      "text/plain": [
       "9"
      ]
     },
     "execution_count": 10,
     "metadata": {},
     "output_type": "execute_result"
    }
   ],
   "source": [
    "len(X_test)"
   ]
  },
  {
   "cell_type": "code",
   "execution_count": 11,
   "metadata": {},
   "outputs": [
    {
     "name": "stdout",
     "output_type": "stream",
     "text": [
      "MSE: 6.163405910824051\n",
      "R2: 0.419816216991433\n"
     ]
    }
   ],
   "source": [
    "from sklearn.metrics import mean_squared_error, r2_score\n",
    "# Realizamos la predicción con los X_test\n",
    "y_pred = model.predict(X_test)\n",
    "\n",
    "# Calculamos el Error Cuadrático Medio\n",
    "mse = mean_squared_error(y_test, y_pred)\n",
    "\n",
    "# Calculamos el Coeficiente de Determinación\n",
    "r2 = r2_score(y_test, y_pred)\n",
    "\n",
    "print(f'MSE: {mse}')\n",
    "print(f'R2: {r2}')"
   ]
  },
  {
   "cell_type": "code",
   "execution_count": 12,
   "metadata": {},
   "outputs": [
    {
     "data": {
      "image/png": "[encoded data removed]",
      "text/plain": [
       "<Figure size 1200x600 with 1 Axes>"
      ]
     },
     "metadata": {},
     "output_type": "display_data"
    }
   ],
   "source": [
    "df_subset = df.iloc[-len(y_test):]\n",
    "\n",
    "# Graficar Valores Reales y Predicciones\n",
    "plt.figure(figsize=(12,6))\n",
    "plt.plot(df_subset['Date'], y_test, label='Valores Reales', color='blue')\n",
    "plt.plot(df_subset['Date'], y_pred, label='Predicciones', color='red')\n",
    "plt.legend()\n",
    "plt.title('Comparación de Valores Reales y Predicciones')\n",
    "plt.show()"
   ]
  },
  {
   "cell_type": "code",
   "execution_count": 13,
   "metadata": {},
   "outputs": [
    {
     "data": {
      "text/plain": [
       "9"
      ]
     },
     "execution_count": 13,
     "metadata": {},
     "output_type": "execute_result"
    }
   ],
   "source": [
    "len(y_pred)"
   ]
  },
  {
   "cell_type": "code",
   "execution_count": 14,
   "metadata": {},
   "outputs": [
    {
     "name": "stdout",
     "output_type": "stream",
     "text": [
      "        Date  Close  Prediction  Diference\n",
      "0 2023-10-24 138.81      135.09       3.72\n",
      "1 2023-10-25 125.61      131.01      -5.40\n",
      "2 2023-10-26 122.28      135.14     -12.86\n",
      "3 2023-10-27 122.17      137.21     -15.04\n",
      "4 2023-10-30 124.46      133.86      -9.40\n",
      "5 2023-10-31 124.08      137.19     -13.11\n",
      "6 2023-11-01 126.45      131.23      -4.78\n",
      "7 2023-11-02 127.49      136.79      -9.30\n",
      "8 2023-11-03 129.10      132.36      -3.26\n",
      "Media de diferencia entre los datos de cierre y predicciones: -7.71385991031832\n"
     ]
    }
   ],
   "source": [
    "# Crear un DataFrame con los últimos 40 valores reales\n",
    "cant_dataTest = len(y_pred)\n",
    "df_test = df.iloc[-cant_dataTest:][['Date', 'Close']].copy()\n",
    "\n",
    "# Crear un DataFrame para las predicciones\n",
    "prediction = pd.DataFrame(y_pred, columns=['Predictions'])\n",
    "\n",
    "# Asignar las predicciones al DataFrame df_test\n",
    "df_test['Prediction'] = prediction['Predictions'].values\n",
    "\n",
    "# Reiniciar el índice si es necesario\n",
    "df_test.reset_index(drop=True, inplace=True)\n",
    "\n",
    "# Calculo la diferencia entre los datos de cierre y predicciones\n",
    "df_test['Diference'] = df_test['Close'] - df_test['Prediction']\n",
    "\n",
    "# Mostrar el DataFrame\n",
    "print(df_test)\n",
    "print(f\"Media de diferencia entre los datos de cierre y predicciones: {df_test['Diference'].mean()}\")"
   ]
  },
  {
   "cell_type": "code",
   "execution_count": 17,
   "metadata": {},
   "outputs": [
    {
     "data": {
      "text/html": [
       "<div>\n",
       "<style scoped>\n",
       "    .dataframe tbody tr th:only-of-type {\n",
       "        vertical-align: middle;\n",
       "    }\n",
       "\n",
       "    .dataframe tbody tr th {\n",
       "        vertical-align: top;\n",
       "    }\n",
       "\n",
       "    .dataframe thead th {\n",
       "        text-align: right;\n",
       "    }\n",
       "</style>\n",
       "<table border=\"1\" class=\"dataframe\">\n",
       "  <thead>\n",
       "    <tr style=\"text-align: right;\">\n",
       "      <th></th>\n",
       "      <th>Date</th>\n",
       "      <th>Close</th>\n",
       "      <th>Prediction</th>\n",
       "      <th>Diference</th>\n",
       "      <th>Porcentaje</th>\n",
       "    </tr>\n",
       "  </thead>\n",
       "  <tbody>\n",
       "    <tr>\n",
       "      <th>0</th>\n",
       "      <td>2023-10-24</td>\n",
       "      <td>138.81</td>\n",
       "      <td>135.09</td>\n",
       "      <td>3.72</td>\n",
       "      <td>2.68</td>\n",
       "    </tr>\n",
       "    <tr>\n",
       "      <th>1</th>\n",
       "      <td>2023-10-25</td>\n",
       "      <td>125.61</td>\n",
       "      <td>131.01</td>\n",
       "      <td>-5.40</td>\n",
       "      <td>4.30</td>\n",
       "    </tr>\n",
       "    <tr>\n",
       "      <th>2</th>\n",
       "      <td>2023-10-26</td>\n",
       "      <td>122.28</td>\n",
       "      <td>135.14</td>\n",
       "      <td>-12.86</td>\n",
       "      <td>10.52</td>\n",
       "    </tr>\n",
       "    <tr>\n",
       "      <th>3</th>\n",
       "      <td>2023-10-27</td>\n",
       "      <td>122.17</td>\n",
       "      <td>137.21</td>\n",
       "      <td>-15.04</td>\n",
       "      <td>12.31</td>\n",
       "    </tr>\n",
       "    <tr>\n",
       "      <th>4</th>\n",
       "      <td>2023-10-30</td>\n",
       "      <td>124.46</td>\n",
       "      <td>133.86</td>\n",
       "      <td>-9.40</td>\n",
       "      <td>7.55</td>\n",
       "    </tr>\n",
       "    <tr>\n",
       "      <th>5</th>\n",
       "      <td>2023-10-31</td>\n",
       "      <td>124.08</td>\n",
       "      <td>137.19</td>\n",
       "      <td>-13.11</td>\n",
       "      <td>10.56</td>\n",
       "    </tr>\n",
       "    <tr>\n",
       "      <th>6</th>\n",
       "      <td>2023-11-01</td>\n",
       "      <td>126.45</td>\n",
       "      <td>131.23</td>\n",
       "      <td>-4.78</td>\n",
       "      <td>3.78</td>\n",
       "    </tr>\n",
       "    <tr>\n",
       "      <th>7</th>\n",
       "      <td>2023-11-02</td>\n",
       "      <td>127.49</td>\n",
       "      <td>136.79</td>\n",
       "      <td>-9.30</td>\n",
       "      <td>7.30</td>\n",
       "    </tr>\n",
       "    <tr>\n",
       "      <th>8</th>\n",
       "      <td>2023-11-03</td>\n",
       "      <td>129.10</td>\n",
       "      <td>132.36</td>\n",
       "      <td>-3.26</td>\n",
       "      <td>2.53</td>\n",
       "    </tr>\n",
       "  </tbody>\n",
       "</table>\n",
       "</div>"
      ],
      "text/plain": [
       "        Date  Close  Prediction  Diference  Porcentaje\n",
       "0 2023-10-24 138.81      135.09       3.72        2.68\n",
       "1 2023-10-25 125.61      131.01      -5.40        4.30\n",
       "2 2023-10-26 122.28      135.14     -12.86       10.52\n",
       "3 2023-10-27 122.17      137.21     -15.04       12.31\n",
       "4 2023-10-30 124.46      133.86      -9.40        7.55\n",
       "5 2023-10-31 124.08      137.19     -13.11       10.56\n",
       "6 2023-11-01 126.45      131.23      -4.78        3.78\n",
       "7 2023-11-02 127.49      136.79      -9.30        7.30\n",
       "8 2023-11-03 129.10      132.36      -3.26        2.53"
      ]
     },
     "execution_count": 17,
     "metadata": {},
     "output_type": "execute_result"
    }
   ],
   "source": [
    "df_test['Porcentaje'] = df_test['Diference'] * 100 / df_test['Close']\n",
    "df_test['Porcentaje'] = df_test['Porcentaje'].apply(lambda x: -x if x < 0 else x)\n",
    "\n",
    "df_test"
   ]
  }
 ],
 "metadata": {
  "kernelspec": {
   "display_name": "Python 3.11.4 ('env': venv)",
   "language": "python",
   "name": "python3"
  },
  "language_info": {
   "codemirror_mode": {
    "name": "ipython",
    "version": 3
   },
   "file_extension": ".py",
   "mimetype": "text/x-python",
   "name": "python",
   "nbconvert_exporter": "python",
   "pygments_lexer": "ipython3",
   "version": "3.11.2"
  },
  "orig_nbformat": 4,
  "vscode": {
   "interpreter": {
    "hash": "0472aa9c384a9239f6715ddb2f043cd9922a4970077915a84953f1d795e50591"
   }
  }
 },
 "nbformat": 4,
 "nbformat_minor": 2
}
